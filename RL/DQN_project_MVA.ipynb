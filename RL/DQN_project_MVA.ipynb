{
 "cells": [
  {
   "cell_type": "markdown",
   "metadata": {},
   "source": [
    "**You may need to install [OpenCV](https://pypi.python.org/pypi/opencv-python) and [scikit-video](http://www.scikit-video.org/stable/).**"
   ]
  },
  {
   "cell_type": "code",
   "execution_count": 2,
   "metadata": {},
   "outputs": [],
   "source": [
    "import tensorflow.keras\n",
    "import numpy as np\n",
    "import io\n",
    "import base64\n",
    "from IPython.display import HTML\n",
    "import skvideo\n",
    "skvideo.setFFmpegPath(\"/Users/johnlevy/Downloads/ffmpeg-20200129-de1b2aa-macos64-static/bin\")\n",
    "import skvideo.io\n",
    "import cv2\n",
    "import json\n",
    "\n",
    "from tensorflow.keras import backend\n",
    "\n",
    "from tensorflow.keras.models import Sequential,model_from_json\n",
    "from keras.layers.core import Dense\n",
    "from keras.optimizers import sgd\n",
    "from tensorflow.keras.layers import Conv2D, MaxPooling2D, Activation, AveragePooling2D,Reshape,BatchNormalization, Flatten"
   ]
  },
  {
   "cell_type": "code",
   "execution_count": 3,
   "metadata": {},
   "outputs": [],
   "source": [
    "from keras.models import Sequential,model_from_json\n",
    "from keras.layers.core import Dense\n",
    "from keras.optimizers import sgd, adam\n",
    "from keras.layers import Conv2D, MaxPooling2D, Activation, AveragePooling2D,Reshape,BatchNormalization, Flatten"
   ]
  },
  {
   "cell_type": "markdown",
   "metadata": {},
   "source": [
    "# MiniProject on Deep Reinforcement Learning"
   ]
  },
  {
   "cell_type": "markdown",
   "metadata": {},
   "source": [
    "__Notations__: $E_p$ is the expectation under probability $p$. Please justify each of your answer and widely comment your code."
   ]
  },
  {
   "cell_type": "markdown",
   "metadata": {},
   "source": [
    "# Context"
   ]
  },
  {
   "cell_type": "markdown",
   "metadata": {},
   "source": [
    "In a reinforcement learning algorithm, we modelize each step $t$ as an action $a_t$ obtained from a state $s_t$, i.e. $\\{(a_{t},s_{t})_{t\\leq T}\\}$ having the Markov property. We consider a discount factor $\\gamma \\in [0,1]$ that ensures convergence. The goal is to find among all the policies $\\pi$, one that maximizes the expected reward:\n",
    "\n",
    "\\begin{equation*}\n",
    "R(\\pi)=\\sum_{t\\leq T}E_{p^{\\pi}}[\\gamma^t r(s_{t},a_{t})] \\> ,\n",
    "\\end{equation*}\n",
    "\n",
    "where: \n",
    "\\begin{equation*}p^{\\pi}(a_{0},a_{1},s_{1},...,a_{T},s_{T})=p(a_{0})\\prod_{t=1}^{T}\\pi(a_{t}|s_{t})p(s_{t+1}|s_{t},a_{t}) \\> .\n",
    "\\end{equation*}\n",
    "\n",
    "We note the $Q$-function:\n",
    "\n",
    "\\begin{equation*}Q^\\pi(s,a)=E_{p^{\\pi}}[\\sum_{t\\leq T}\\gamma^{t}r(s_{t},a_{t})|s_{0}=s,a_{0}=a] \\> .\n",
    "\\end{equation*}\n",
    "\n",
    "Thus, the optimal Q function is:\n",
    "\\begin{equation*}\n",
    "Q^*(s,a)=\\max_{\\pi}Q^\\pi(s,a) \\> .\n",
    "\\end{equation*}\n",
    "\n",
    "In this project, we will apply the deep reinforcement learning techniques to a simple game: an agent will have to learn from scratch a policy that will permit it maximizing a reward."
   ]
  },
  {
   "cell_type": "markdown",
   "metadata": {},
   "source": [
    "## The environment, the agent and the game"
   ]
  },
  {
   "cell_type": "markdown",
   "metadata": {},
   "source": [
    "### The environment"
   ]
  },
  {
   "cell_type": "markdown",
   "metadata": {},
   "source": [
    "```Environment``` is an abstract class that represents the states, rewards, and actions to obtain the new state."
   ]
  },
  {
   "cell_type": "code",
   "execution_count": 4,
   "metadata": {},
   "outputs": [],
   "source": [
    "class Environment(object):\n",
    "    def __init__(self):\n",
    "        pass\n",
    "\n",
    "    def act(self, act):\n",
    "        \"\"\"\n",
    "        One can act on the environment and obtain its reaction:\n",
    "        - the new state\n",
    "        - the reward of the new state\n",
    "        - should we continue the game?\n",
    "\n",
    "        :return: state, reward, game_over\n",
    "        \"\"\"\n",
    "        pass\n",
    "\n",
    "\n",
    "    def reset(self):\n",
    "        \"\"\"\n",
    "        Reinitialize the environment to a random state and returns\n",
    "        the original state\n",
    "\n",
    "        :return: state\n",
    "        \"\"\"\n",
    "        pass\n",
    "    \n",
    "    def draw(self):\n",
    "        \"\"\"\n",
    "        Visualize in the console or graphically the current state\n",
    "        \"\"\"\n",
    "        pass"
   ]
  },
  {
   "cell_type": "markdown",
   "metadata": {},
   "source": [
    "The method ```act``` allows to act on the environment at a given state $s_t$ (stored internally), via action $a_t$. The method will return the new state $s_{t+1}$, the reward $r(s_{t},a_{t})$ and determines if $t\\leq T$ (*game_over*).\n",
    "\n",
    "The method ```reset``` simply reinitializes the environment to a random state $s_0$.\n",
    "\n",
    "The method ```draw``` displays the current state $s_t$ (this is useful to check the behavior of the Agent).\n",
    "\n",
    "We modelize $s_t$ as a tensor, while $a_t$ is an integer."
   ]
  },
  {
   "cell_type": "markdown",
   "metadata": {},
   "source": [
    "### The Agent"
   ]
  },
  {
   "cell_type": "markdown",
   "metadata": {},
   "source": [
    "The goal of the ```Agent``` is to interact with the ```Environment``` by proposing actions $a_t$ obtained from a given state $s_t$ to attempt to maximize its __reward__ $r(s_t,a_t)$. We propose the following abstract class:"
   ]
  },
  {
   "cell_type": "code",
   "execution_count": 5,
   "metadata": {},
   "outputs": [],
   "source": [
    "class Agent(object):\n",
    "    def __init__(self, epsilon=0.1, n_action=4):\n",
    "        self.epsilon = epsilon\n",
    "        self.n_action = n_action\n",
    "    \n",
    "    def set_epsilon(self,e):\n",
    "        self.epsilon = e\n",
    "\n",
    "    def act(self,s,train=True):\n",
    "        \"\"\" This function should return the next action to do:\n",
    "        an integer between 0 and 4 (not included) with a random exploration of epsilon\"\"\"\n",
    "        if train:\n",
    "            if np.random.rand() <= self.epsilon:\n",
    "                a = np.random.randint(0, self.n_action, size=1)[0]\n",
    "            else:\n",
    "                a = self.learned_act(s)\n",
    "        else: # in some cases, this can improve the performance.. remove it if poor performances\n",
    "            a = self.learned_act(s)\n",
    "\n",
    "        return a\n",
    "\n",
    "    def learned_act(self,s):\n",
    "        \"\"\" Act via the policy of the agent, from a given state s\n",
    "        it proposes an action a\"\"\"\n",
    "        pass\n",
    "\n",
    "    def reinforce(self, s, n_s, a, r, game_over_):\n",
    "        \"\"\" This function is the core of the learning algorithm. \n",
    "        It takes as an input the current state s_, the next state n_s_\n",
    "        the action a_ used to move from s_ to n_s_ and the reward r_.\n",
    "        \n",
    "        Its goal is to learn a policy.\n",
    "        \"\"\"\n",
    "        pass\n",
    "\n",
    "    def save(self):\n",
    "        \"\"\" This function returns basic stats if applicable: the\n",
    "        loss and/or the model\"\"\"\n",
    "        pass\n",
    "\n",
    "    def load(self):\n",
    "        \"\"\" This function allows to restore a model\"\"\"\n",
    "        pass"
   ]
  },
  {
   "cell_type": "markdown",
   "metadata": {},
   "source": [
    "***\n",
    "__Question 1__:\n",
    "Explain the function act. Why is ```epsilon``` essential?"
   ]
  },
  {
   "cell_type": "markdown",
   "metadata": {},
   "source": [
    "The function act gives the agent the next action to do. The epsilon ensures the exploration of the agent, the more the epsilon is large, the more we are going to encourage the exploration, the lower the espilon get, the more the exploitation get. This espilon represents the trade-off between exploration and exploitation."
   ]
  },
  {
   "cell_type": "markdown",
   "metadata": {},
   "source": [
    "***\n",
    "### The Game"
   ]
  },
  {
   "cell_type": "markdown",
   "metadata": {},
   "source": [
    "The ```Agent``` and the ```Environment``` work in an interlaced way as in the following (take some time to understand this code as it is the core of the project)\n",
    "\n",
    "```python\n",
    "\n",
    "epoch = 300\n",
    "env = Environment()\n",
    "agent = Agent()\n",
    "\n",
    "\n",
    "# Number of won games\n",
    "score = 0\n",
    "loss = 0\n",
    "\n",
    "\n",
    "for e in range(epoch):\n",
    "    # At each epoch, we restart to a fresh game and get the initial state\n",
    "    state = env.reset()\n",
    "    # This assumes that the games will end\n",
    "    game_over = False\n",
    "\n",
    "    win = 0\n",
    "    lose = 0\n",
    "    \n",
    "    while not game_over:\n",
    "        # The agent performs an action\n",
    "        action = agent.act(state)\n",
    "\n",
    "        # Apply an action to the environment, get the next state, the reward\n",
    "        # and if the games end\n",
    "        prev_state = state\n",
    "        state, reward, game_over = env.act(action)\n",
    "\n",
    "        # Update the counters\n",
    "        if reward > 0:\n",
    "            win = win + reward\n",
    "        if reward < 0:\n",
    "            lose = lose -reward\n",
    "\n",
    "        # Apply the reinforcement strategy\n",
    "        loss = agent.reinforce(prev_state, state,  action, reward, game_over)\n",
    "\n",
    "    # Save as a mp4\n",
    "    if e % 10 == 0:\n",
    "        env.draw(e)\n",
    "\n",
    "    # Update stats\n",
    "    score += win-lose\n",
    "\n",
    "    print(\"Epoch {:03d}/{:03d} | Loss {:.4f} | Win/lose count {}/{} ({})\"\n",
    "          .format(e, epoch, loss, win, lose, win-lose))\n",
    "    agent.save()\n",
    "```"
   ]
  },
  {
   "cell_type": "markdown",
   "metadata": {},
   "source": [
    "# The game, *eat cheese*"
   ]
  },
  {
   "cell_type": "markdown",
   "metadata": {},
   "source": [
    "A rat runs on an island and tries to eat as much as possible. The island is subdivided into $N\\times N$ cells, in which there are cheese (+0.5) and poisonous cells (-1). The rat has a visibility of 2 cells (thus it can see $5^2$ cells). The rat is given a time $T$ to accumulate as much food as possible. It can perform 4 actions: going up, down, left, right. \n",
    "\n",
    "The goal is to code an agent to solve this task that will learn by trial and error. We propose the following environment:"
   ]
  },
  {
   "cell_type": "code",
   "execution_count": 35,
   "metadata": {},
   "outputs": [],
   "source": [
    "class Environment(object):\n",
    "    def __init__(self, grid_size=10, max_time=500, temperature=0.1):\n",
    "        grid_size = grid_size+4\n",
    "        self.grid_size = grid_size\n",
    "        self.max_time = max_time\n",
    "        self.temperature = temperature\n",
    "\n",
    "        #board on which one plays\n",
    "        self.board = np.zeros((grid_size,grid_size))\n",
    "        self.position = np.zeros((grid_size,grid_size))\n",
    "\n",
    "        # coordinate of the cat\n",
    "        self.x = 0\n",
    "        self.y = 1\n",
    "\n",
    "        # self time\n",
    "        self.t = 0\n",
    "\n",
    "        self.scale=16\n",
    "\n",
    "        self.to_draw = np.zeros((max_time+2, grid_size*self.scale, grid_size*self.scale, 3))\n",
    "\n",
    "\n",
    "    def draw(self,e):\n",
    "        skvideo.io.vwrite(str(e) + '.mp4', self.to_draw)\n",
    "\n",
    "    def get_frame(self,t):\n",
    "        b = np.zeros((self.grid_size,self.grid_size,3))+128\n",
    "        b[self.board>0,0] = 256\n",
    "        b[self.board < 0, 2] = 256\n",
    "        b[self.x,self.y,:]=256\n",
    "        b[-2:,:,:]=0\n",
    "        b[:,-2:,:]=0\n",
    "        b[:2,:,:]=0\n",
    "        b[:,:2,:]=0\n",
    "        \n",
    "        b =  cv2.resize(b, None, fx=self.scale, fy=self.scale, interpolation=cv2.INTER_NEAREST)\n",
    "\n",
    "        self.to_draw[t,:,:,:]=b\n",
    "\n",
    "\n",
    "    def act(self, action):\n",
    "        \"\"\"This function returns the new state, reward and decides if the\n",
    "        game ends.\"\"\"\n",
    "\n",
    "        self.get_frame(int(self.t))\n",
    "\n",
    "        self.position = np.zeros((self.grid_size, self.grid_size))\n",
    "\n",
    "        self.position[0:2,:]= -1\n",
    "        self.position[:,0:2] = -1\n",
    "        self.position[-2:, :] = -1\n",
    "        self.position[:,-2 :] = -1\n",
    "\n",
    "        self.position[self.x, self.y] = 1\n",
    "        if action == 0:\n",
    "            if self.x == self.grid_size-3:\n",
    "                self.x = self.x-1\n",
    "            else:\n",
    "                self.x = self.x + 1\n",
    "        elif action == 1:\n",
    "            if self.x == 2:\n",
    "                self.x = self.x+1\n",
    "            else:\n",
    "                self.x = self.x-1\n",
    "        elif action == 2:\n",
    "            if self.y == self.grid_size - 3:\n",
    "                self.y = self.y - 1\n",
    "            else:\n",
    "                self.y = self.y + 1\n",
    "        elif action == 3:\n",
    "            if self.y == 2:\n",
    "                self.y = self.y + 1\n",
    "            else:\n",
    "                self.y = self.y - 1\n",
    "        else:\n",
    "            RuntimeError('Error: action not recognized')\n",
    "\n",
    "        self.t = self.t + 1\n",
    "        reward = self.board[self.x, self.y]\n",
    "        self.board[self.x, self.y] = 0\n",
    "        game_over = self.t > self.max_time\n",
    "        state = np.concatenate((self.board.reshape(self.grid_size, self.grid_size,1),\n",
    "                        self.position.reshape(self.grid_size, self.grid_size,1)),axis=2)\n",
    "        state = state[self.x-2:self.x+3,self.y-2:self.y+3,:]\n",
    "\n",
    "        return state, reward, game_over\n",
    "\n",
    "    def reset(self):\n",
    "        \"\"\"This function resets the game and returns the initial state\"\"\"\n",
    "        #on prend aléatoirement de 3 à grid - 3 et [0] pour dire qu'on veut pas un array mais un réel\n",
    "        self.x = np.random.randint(3, self.grid_size-3, size=1)[0] \n",
    "        self.y = np.random.randint(3, self.grid_size-3, size=1)[0]\n",
    "\n",
    "\n",
    "        bonus = 0.5*np.random.binomial(1,self.temperature,size=self.grid_size**2)\n",
    "        bonus = bonus.reshape(self.grid_size,self.grid_size)\n",
    "\n",
    "        malus = -1.0*np.random.binomial(1,self.temperature,size=self.grid_size**2)\n",
    "        malus = malus.reshape(self.grid_size, self.grid_size)\n",
    "\n",
    "        self.to_draw = np.zeros((self.max_time+2, self.grid_size*self.scale, self.grid_size*self.scale, 3))\n",
    "\n",
    "\n",
    "        malus[bonus>0]=0\n",
    "\n",
    "        self.board = bonus + malus\n",
    "\n",
    "        self.position = np.zeros((self.grid_size, self.grid_size))\n",
    "        self.position[0:2,:]= -1\n",
    "        self.position[:,0:2] = -1\n",
    "        self.position[-2:, :] = -1\n",
    "        self.position[:, -2:] = -1\n",
    "        self.board[self.x,self.y] = 0\n",
    "        self.t = 0\n",
    "\n",
    "        state = np.concatenate((\n",
    "                               self.board.reshape(self.grid_size, self.grid_size,1),\n",
    "                        self.position.reshape(self.grid_size, self.grid_size,1)),axis=2)\n",
    "\n",
    "        state = state[self.x - 2:self.x + 3, self.y - 2:self.y + 3, :]\n",
    "        return state"
   ]
  },
  {
   "cell_type": "markdown",
   "metadata": {},
   "source": [
    "The following elements are important because they correspond to the hyper parameters for this project:"
   ]
  },
  {
   "cell_type": "code",
   "execution_count": 36,
   "metadata": {},
   "outputs": [],
   "source": [
    "# parameters\n",
    "size = 13\n",
    "T=200\n",
    "temperature=0.3\n",
    "epochs_train=20 # set small when debugging\n",
    "epochs_test=20 # set small when debugging\n",
    "\n",
    "# display videos\n",
    "def display_videos(name):\n",
    "    video = io.open(name, 'r+b').read()\n",
    "    encoded = base64.b64encode(video)\n",
    "    return '''<video alt=\"test\" controls>\n",
    "                <source src=\"data:video/mp4;base64,{0}\" type=\"video/mp4\" />\n",
    "             </video>'''.format(encoded.decode('ascii'))"
   ]
  },
  {
   "cell_type": "markdown",
   "metadata": {},
   "source": [
    "__Question 2__ Explain the use of the arrays ```position``` and ```board```."
   ]
  },
  {
   "cell_type": "markdown",
   "metadata": {},
   "source": [
    "The position array is used to give the reward. The rewards are given by : +0.5 if there is cheese, -1 for poisonous, 0 otherwise. The board represents whee the rat can go : -1 for the board of the grid (these area is forbidden), +1 where the rat stands, 0 otherwise."
   ]
  },
  {
   "cell_type": "markdown",
   "metadata": {},
   "source": [
    "## Random Agent"
   ]
  },
  {
   "cell_type": "markdown",
   "metadata": {},
   "source": [
    "***\n",
    "__Question 3__ Implement a random Agent (only ```learned_act``` needs to be implemented):"
   ]
  },
  {
   "cell_type": "code",
   "execution_count": 37,
   "metadata": {},
   "outputs": [],
   "source": [
    "class RandomAgent(Agent):\n",
    "    def __init__(self):\n",
    "        super(RandomAgent, self).__init__()\n",
    "        pass\n",
    "\n",
    "    def learned_act(self, s):\n",
    "        action = np.random.randint(4)\n",
    "        return action\n"
   ]
  },
  {
   "cell_type": "markdown",
   "metadata": {},
   "source": [
    "***\n",
    "***\n",
    "__Question 4__ Visualize the game moves. You need to fill in the following function for the evaluation:"
   ]
  },
  {
   "cell_type": "code",
   "execution_count": 38,
   "metadata": {},
   "outputs": [],
   "source": [
    "def test(agent,env,epochs,prefix=''):\n",
    "    \n",
    "    \n",
    "    # Number of won games\n",
    "    score = 0\n",
    "        \n",
    "\n",
    "\n",
    "\n",
    "    for e in range(epochs):\n",
    "    # At each epoch, we restart to a fresh game and get the initial state\n",
    "        state = env.reset()\n",
    "    # This assumes that the games will end\n",
    "        game_over = False\n",
    "\n",
    "        win = 0\n",
    "        lose = 0\n",
    "\n",
    "        while not game_over:\n",
    "            # The agent performs an action\n",
    "            action = agent.act(state)\n",
    "        # Apply an action to the environment, get the next state, the reward\n",
    "        # and if the games end\n",
    "            prev_state = state\n",
    "            state, reward, game_over = env.act(action)\n",
    "\n",
    "        # Update the counters\n",
    "            if reward > 0:\n",
    "                win = win + reward\n",
    "            if reward < 0:\n",
    "                lose = lose -reward\n",
    "\n",
    "        # Apply the reinforcement strategy\n",
    "            loss = agent.reinforce(prev_state, state,  action, reward, game_over)\n",
    "\n",
    "    # Save as a mp4\n",
    "        if e % 10 == 0:\n",
    "            env.draw(e)\n",
    "\n",
    "    # Update stats\n",
    "        score += win-lose\n",
    "        \n",
    "        \n",
    "        \n",
    "        \n",
    "        # Save as a mp4\n",
    "        env.draw(prefix+str(e))\n",
    "\n",
    "        # Update stats\n",
    "        score = score + win-lose\n",
    "\n",
    "        print(\"Win/lose count {}/{}. Average score ({})\"\n",
    "              .format(win, lose, score/(1+e)))\n",
    "        print('Final score: '+str(score/epochs))"
   ]
  },
  {
   "cell_type": "code",
   "execution_count": 39,
   "metadata": {},
   "outputs": [
    {
     "name": "stdout",
     "output_type": "stream",
     "text": [
      "Win/lose count 13.0/15.0. Average score (-4.0)\n",
      "Final score: -0.2\n",
      "Win/lose count 9.0/10.0. Average score (-3.0)\n",
      "Final score: -0.3\n",
      "Win/lose count 6.0/10.0. Average score (-4.666666666666667)\n",
      "Final score: -0.7\n",
      "Win/lose count 10.0/16.0. Average score (-6.5)\n",
      "Final score: -1.3\n",
      "Win/lose count 13.5/18.0. Average score (-7.0)\n",
      "Final score: -1.75\n",
      "Win/lose count 9.0/18.0. Average score (-8.833333333333334)\n",
      "Final score: -2.65\n",
      "Win/lose count 8.5/14.0. Average score (-9.142857142857142)\n",
      "Final score: -3.2\n",
      "Win/lose count 9.0/13.0. Average score (-9.0)\n",
      "Final score: -3.6\n",
      "Win/lose count 7.5/13.0. Average score (-9.222222222222221)\n",
      "Final score: -4.15\n",
      "Win/lose count 11.5/11.0. Average score (-8.2)\n",
      "Final score: -4.1\n",
      "Win/lose count 11.5/15.0. Average score (-8.090909090909092)\n",
      "Final score: -4.45\n",
      "Win/lose count 9.5/20.0. Average score (-9.166666666666666)\n",
      "Final score: -5.5\n",
      "Win/lose count 10.5/11.0. Average score (-8.538461538461538)\n",
      "Final score: -5.55\n",
      "Win/lose count 12.5/14.0. Average score (-8.142857142857142)\n",
      "Final score: -5.7\n",
      "Win/lose count 9.5/6.0. Average score (-7.133333333333334)\n",
      "Final score: -5.35\n",
      "Win/lose count 12.0/15.0. Average score (-7.0625)\n",
      "Final score: -5.65\n",
      "Win/lose count 13.5/16.0. Average score (-6.9411764705882355)\n",
      "Final score: -5.9\n",
      "Win/lose count 8.5/15.0. Average score (-7.277777777777778)\n",
      "Final score: -6.55\n",
      "Win/lose count 11.0/9.0. Average score (-6.684210526315789)\n",
      "Final score: -6.35\n",
      "Win/lose count 8.5/20.0. Average score (-7.5)\n",
      "Final score: -7.5\n"
     ]
    }
   ],
   "source": [
    "# Initialize the game\n",
    "env = Environment(grid_size=size, max_time=T,temperature=temperature)\n",
    "\n",
    "# Initialize the agent!\n",
    "agent = RandomAgent()\n",
    "\n",
    "test(agent,env,epochs_test,prefix='random')\n"
   ]
  },
  {
   "cell_type": "code",
   "execution_count": 40,
   "metadata": {},
   "outputs": [
    {
     "data": {
      "text/html": [
       "<video alt=\"test\" controls>\n",
       "                <source src=\"data:video/mp4;base64,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\" type=\"video/mp4\" />\n",
       "             </video>"
      ],
      "text/plain": [
       "<IPython.core.display.HTML object>"
      ]
     },
     "execution_count": 40,
     "metadata": {},
     "output_type": "execute_result"
    }
   ],
   "source": [
    "HTML(display_videos('random0.mp4'))"
   ]
  },
  {
   "cell_type": "markdown",
   "metadata": {},
   "source": [
    "***\n",
    "## DQN"
   ]
  },
  {
   "cell_type": "code",
   "execution_count": 1,
   "metadata": {},
   "outputs": [
    {
     "name": "stderr",
     "output_type": "stream",
     "text": [
      "UsageError: %%latex is a cell magic, but the cell body is empty.\n"
     ]
    }
   ],
   "source": [
    "%%latex"
   ]
  },
  {
   "cell_type": "markdown",
   "metadata": {},
   "source": [
    "Let us assume here that $T=\\infty$.\n",
    "\n",
    "***\n",
    "__Question 5__ Let $\\pi$ be a policy, show that:\n",
    "\n",
    "\\begin{equation*}\n",
    "Q^{\\pi}(s,a)=E_{(s',a')\\sim p(.|s,a)}[r(s,a)+\\gamma Q^{\\pi}(s',a')]\n",
    "\\end{equation*}\n",
    "\n",
    "Then, show that for the optimal policy $\\pi^*$ (we assume its existence), the following holds: \n",
    "\n",
    "\\begin{equation*}\n",
    "Q^{*}(s,a)=E_{s'\\sim \\pi^*(.|s,a)}[r(s,a)+\\gamma\\max_{a'}Q^{*}(s',a')].\n",
    "\\end{equation*}\n",
    "Finally, deduce that a plausible objective is:\n",
    "\n",
    "\\begin{equation*}\n",
    "\\mathcal{L}(\\theta)=E_{s' \\sim \\pi^*(.|s,a)}\\Vert r+\\gamma\\max\\max_{a'}Q(s',a',\\theta)-Q(s,a,\\theta)\\Vert^{2}.\n",
    "\\end{equation*}\n",
    "\n",
    "\n"
   ]
  },
  {
   "cell_type": "markdown",
   "metadata": {},
   "source": [
    "$\\bf{\\underline{ First \\hspace{0.1cm} question :}} $\n",
    "\n",
    "$$\n",
    "Q^{\\pi}(s,a) = E_{p^\\pi}[\\sum_{t\\leq T} \\gamma^{t} r(s_t,a_t)|s_0 = s, a_0 = a]\\\\\n",
    "= E_{p^\\pi}[  r(s,a) + \\gamma\\sum_{t=1}^{T} \\gamma^{t-1} r(s_t,a_t)|s_0 = s, a_0 = a]\\\\\n",
    "= r(s,a) + \\gamma \\sum_{s'}\\sum_{a'}p(s_1 = s',a_1 = a'|s_0,a_0)E[\\sum_{t=1}^{T}\\gamma^{t-1}r(s_t,a_t)|s_1 = s', a_1 = a']\\\\\n",
    "= r(s,a) + \\gamma\\sum_{s'}\\sum_{a'}p(s',a'|s_0,a_0)Q^{\\pi}(s',a')\\\\\n",
    "=r(s,a) + \\gamma E_{s',a'\\sim p(.|s,a)}[Q^{\\pi}(s',a')]\n",
    "$$\n",
    "\n",
    "$\\bf{\\underline{ Second \\hspace{0.1cm} question :}} $\n",
    "\n",
    "$$\n",
    "Q^{*}(s,a) = \\max_{\\pi}E_{p^\\pi}[\\sum_{t\\leq T} \\gamma^{t} r(s_t,a_t)|s_0 = s, a_0 = a]\\\\\n",
    "= \\max_{\\pi'} ( r(s,a) + \\gamma \\sum_{s'}\\sum_{a'}p(s',a'|s_0,a_0)Q^{\\pi'}(s',a')) \\\\\n",
    "= r(s,a) + \\gamma \\sum_{s'}\\sum_{a'}p(s',a'|s_0,a_0)\\max_{\\pi'}Q^{\\pi'}(s',a') \\\\\n",
    "= r(s,a) + \\gamma \\sum_{s'}\\sum_{a'}p(s',a'|s_0,a_0)Q^{*}(s',a') \\\\\n",
    "= E_{s'\\sim \\pi^*(.|s,a)}[r(s,a)+\\gamma\\max_{a'}Q^{*}(s',a')]\n",
    "$$\n",
    "\n",
    "$\\bf{\\underline{ Third \\hspace{0.1cm} question :}}$\n",
    "We can recognize the mean square error \n",
    "$$\n",
    "\\mathcal{L}(\\theta)= E[(\\hat{\\theta} - \\theta)^{2}]\\\\\n",
    "E_{s' \\sim \\pi^*(.|s,a)}[\\Vert Q^{*}(s,a,\\theta^{*})-Q(s,a,\\theta)\\Vert^{2}\\Vert^{2}]\\\\\n",
    "E_{s' \\sim \\pi^*(.|s,a)}[\\Vert r+\\gamma\\max_{a'}Q(s',a',\\theta)-Q(s,a,\\theta)\\Vert^{2}]\n",
    "$$\n"
   ]
  },
  {
   "cell_type": "markdown",
   "metadata": {},
   "source": [
    "***\n",
    "The DQN-learning algorithm relies on these derivations to train the parameters $\\theta$ of a Deep Neural Network:\n",
    "\n",
    "1. At the state $s_t$, select the action $a_t$ with best reward using $Q_t$ and store the results;\n",
    "\n",
    "2. Obtain the new state $s_{t+1}$ from the environment $p$;\n",
    "\n",
    "3. Store $(s_t,a_t,s_{t+1})$;\n",
    "\n",
    "4. Obtain $Q_{t+1}$ by minimizing  $\\mathcal{L}$ from a recovered batch from the previously stored results.\n",
    "\n",
    "***\n",
    "__Question 6__ Implement the class ```Memory``` that stores moves (in a replay buffer) via ```remember``` and provides a ```random_access``` to these. Specify a maximum memory size to avoid side effects. You can for example use a ```list()``` and set by default ```max_memory=100```."
   ]
  },
  {
   "cell_type": "code",
   "execution_count": 41,
   "metadata": {},
   "outputs": [],
   "source": [
    "class Memory(object):\n",
    "    def __init__(self, max_memory=100):\n",
    "        self.max_memory = max_memory\n",
    "        self.memory = list()\n",
    "\n",
    "    def remember(self, m):# we want to stores moves in a replay buffer\n",
    "        self.memory.append(m)\n",
    "        if len(self.memory) > self.max_memory:\n",
    "            del self.memory[0]\n",
    "        \n",
    "\n",
    "    def random_access(self):\n",
    "        indice = np.random.randint(0,len(self.memory))\n",
    "        return self.memory[indice]"
   ]
  },
  {
   "cell_type": "markdown",
   "metadata": {},
   "source": [
    "***\n",
    "The pipeline we will use for training is given below:"
   ]
  },
  {
   "cell_type": "code",
   "execution_count": 42,
   "metadata": {},
   "outputs": [],
   "source": [
    "def train(agent,env,epoch,prefix=''):\n",
    "    # Number of won games\n",
    "    score = 0\n",
    "    loss = 0\n",
    "\n",
    "    for e in range(epoch):\n",
    "        # At each epoch, we restart to a fresh game and get the initial state\n",
    "        state = env.reset()\n",
    "        # This assumes that the games will terminate\n",
    "        game_over = False\n",
    "\n",
    "        win = 0\n",
    "        lose = 0\n",
    "\n",
    "        while not game_over:\n",
    "            # The agent performs an action\n",
    "            action = agent.act(state)\n",
    "\n",
    "            # Apply an action to the environment, get the next state, the reward\n",
    "            # and if the games end\n",
    "            prev_state = state\n",
    "            state, reward, game_over = env.act(action)\n",
    "        \n",
    "            # Update the counters\n",
    "            if reward > 0:\n",
    "                win = win + reward\n",
    "            if reward < 0:\n",
    "                lose = lose -reward\n",
    "\n",
    "            # Apply the reinforcement strategy\n",
    "            loss = agent.reinforce(prev_state, state,  action, reward, game_over)\n",
    "\n",
    "        # Save as a mp4\n",
    "        if e % 10 == 0:\n",
    "            env.draw(prefix+str(e))\n",
    "\n",
    "        # Update stats\n",
    "        score += win-lose\n",
    "\n",
    "        print(\"Epoch {:03d}/{:03d} | Loss {:.4f} | Win/lose count {}/{} ({})\"\n",
    "              .format(e, epoch, loss, win, lose, win-lose))\n",
    "        agent.save(name_weights=prefix+'model.h5',name_model=prefix+'model.json')"
   ]
  },
  {
   "cell_type": "markdown",
   "metadata": {},
   "source": [
    "***\n",
    "__Question 7__ Implement the DQN training algorithm using a cascade of fully connected layers. You can use different learning rate, batch size or memory size parameters. In particular, the loss might oscillate while the player will start to win the games. You have to find a good criterium."
   ]
  },
  {
   "cell_type": "code",
   "execution_count": 43,
   "metadata": {},
   "outputs": [],
   "source": [
    "class DQN(Agent):\n",
    "    def __init__(self, grid_size,  epsilon = 0.1, memory_size=100, batch_size = 16,n_state=2):\n",
    "        super(DQN, self).__init__(epsilon = epsilon)\n",
    "\n",
    "        # Discount for Q learning\n",
    "        self.discount = 0.99\n",
    "        \n",
    "        self.grid_size = grid_size\n",
    "        \n",
    "        # number of state\n",
    "        self.n_state = n_state\n",
    "\n",
    "        # Memory\n",
    "        self.memory = Memory(memory_size)\n",
    "        \n",
    "        # Batch size when learning\n",
    "        self.batch_size = batch_size\n",
    "\n",
    "    def learned_act(self, s): #ecrase la fonction learned_act de l'agent pour la remplacer par celle ci\n",
    "        s = np.expand_dims(s,axis=0)\n",
    "        a = np.argmax(self.model.predict(s))\n",
    "        return a\n",
    "\n",
    "    def reinforce(self, s_, n_s_, a_, r_, game_over_):\n",
    "        # Two steps: first memorize the states, second learn from the pool\n",
    "        self.memory.remember([s_, n_s_, a_, r_, game_over_])\n",
    "        \n",
    "        #input states and target q are going to be used when we'll do the loss\n",
    "        input_states = np.zeros((self.batch_size, 5,5,self.n_state))\n",
    "        target_q = np.zeros((self.batch_size, 4))\n",
    "        \n",
    "        for i in range(self.batch_size): #on fait une batch gradient descent \n",
    "            ######## FILL IN\n",
    "            state,next_state,action,reward, game_over = self.memory.random_access()\n",
    "            input_states[i,:,:,:] = state  #pas besoin de redimensionner car on a précisé plus haut que inputs states est de dim 4\n",
    "            state = np.expand_dims(state,axis = 0)\n",
    "            target_q[i,:] = self.model.predict(state) #comme on veut faire la diff dans le MSE que pour l'action qu'on choisit, on met les autres valeurs égales comme ca différences entre Q et Q* = 0\n",
    "            next_state = np.expand_dims(next_state, axis = 0)\n",
    "            #ici on imite Q value function, et comme pour chaque i on a le même state, on pourra faire descente de gradient\n",
    "            if game_over_: \n",
    "                target_q[i,action] = reward\n",
    "            else:\n",
    "                target_q[i,action] = reward + self.discount*np.max(self.model.predict(next_state))\n",
    "        ######## FILL IN\n",
    "        # HINT: Clip the target to avoid exploiding gradients.. -- clipping is a bit tighter\n",
    "        target_q = np.clip(target_q, -3, 3)\n",
    "        l = self.model.train_on_batch(input_states, target_q) #inputs state c'est les training inputs et target_q c'est target data\n",
    "        #donc input_state on va le passer à notre réseaux de neurons\n",
    "\n",
    "        return l\n",
    "\n",
    "    def save(self,name_weights='model.h5',name_model='model.json'):\n",
    "        self.model.save_weights(name_weights, overwrite=True)\n",
    "        with open(name_model, \"w\") as outfile:\n",
    "            json.dump(self.model.to_json(), outfile)\n",
    "            \n",
    "    def load(self,name_weights='model.h5',name_model='model.json'):\n",
    "        with open(name_model, \"r\") as jfile:\n",
    "            model = model_from_json(json.load(jfile))\n",
    "        model.load_weights(name_weights)\n",
    "        model.compile(\"sgd\", \"mse\")\n",
    "        self.model = model\n",
    "\n",
    "            \n",
    "class DQN_FC(DQN):\n",
    "    def __init__(self, *args, lr=0.1,**kwargs):\n",
    "        super(DQN_FC, self).__init__( *args,**kwargs)\n",
    "        \n",
    "        # NN Model\n",
    "        \n",
    "        model = Sequential()\n",
    "        model.add(Flatten(input_shape=(5,5,self.n_state))) #n_state = 2 , et le rat voit 25 cases\n",
    "        model.add(Dense(25, activation='relu'))\n",
    "        model.add(Dense(4,activation = 'linear')) #4 car pour chaque state on aura 4 Q(s,a) pour les 4 actions différentes\n",
    "        \n",
    "        ####### FILL IN\n",
    "        \n",
    "        model.compile(adam(lr=lr, decay=1e-4), \"mse\")\n",
    "        self.model = model\n",
    "        model.summary()\n",
    "       \n"
   ]
  },
  {
   "cell_type": "code",
   "execution_count": 44,
   "metadata": {},
   "outputs": [
    {
     "name": "stdout",
     "output_type": "stream",
     "text": [
      "_________________________________________________________________\n",
      "Layer (type)                 Output Shape              Param #   \n",
      "=================================================================\n",
      "flatten_8 (Flatten)          (None, 50)                0         \n",
      "_________________________________________________________________\n",
      "dense_13 (Dense)             (None, 25)                1275      \n",
      "_________________________________________________________________\n",
      "dense_14 (Dense)             (None, 4)                 104       \n",
      "=================================================================\n",
      "Total params: 1,379\n",
      "Trainable params: 1,379\n",
      "Non-trainable params: 0\n",
      "_________________________________________________________________\n",
      "Epoch 000/020 | Loss 1.2597 | Win/lose count 5.5/2.0 (3.5)\n",
      "Epoch 001/020 | Loss 1.4315 | Win/lose count 5.5/7.0 (-1.5)\n",
      "Epoch 002/020 | Loss 2.0218 | Win/lose count 3.5/4.0 (-0.5)\n",
      "Epoch 003/020 | Loss 1.9746 | Win/lose count 2.0/3.0 (-1.0)\n",
      "Epoch 004/020 | Loss 2.0014 | Win/lose count 6.0/7.0 (-1.0)\n",
      "Epoch 005/020 | Loss 1.8846 | Win/lose count 4.5/1.0 (3.5)\n",
      "Epoch 006/020 | Loss 2.0036 | Win/lose count 4.5/9.0 (-4.5)\n",
      "Epoch 007/020 | Loss 2.0786 | Win/lose count 2.5/4.0 (-1.5)\n",
      "Epoch 008/020 | Loss 1.9275 | Win/lose count 3.0/1.0 (2.0)\n",
      "Epoch 009/020 | Loss 2.0509 | Win/lose count 6.0/5.0 (1.0)\n",
      "Epoch 010/020 | Loss 1.8975 | Win/lose count 8.0/1.0 (7.0)\n",
      "Epoch 011/020 | Loss 1.9546 | Win/lose count 1.5/3.0 (-1.5)\n",
      "Epoch 012/020 | Loss 1.8720 | Win/lose count 3.0/5.0 (-2.0)\n",
      "Epoch 013/020 | Loss 1.7985 | Win/lose count 4.0/4.0 (0.0)\n",
      "Epoch 014/020 | Loss 1.7619 | Win/lose count 5.0/3.0 (2.0)\n",
      "Epoch 015/020 | Loss 1.8853 | Win/lose count 7.0/3.0 (4.0)\n",
      "Epoch 016/020 | Loss 1.8615 | Win/lose count 3.0/3.0 (0.0)\n",
      "Epoch 017/020 | Loss 1.8505 | Win/lose count 3.0/2.0 (1.0)\n",
      "Epoch 018/020 | Loss 1.8371 | Win/lose count 6.5/3.0 (3.5)\n",
      "Epoch 019/020 | Loss 1.8729 | Win/lose count 5.5/4.0 (1.5)\n"
     ]
    }
   ],
   "source": [
    "env = Environment(grid_size=size, max_time=T, temperature=0.3)\n",
    "agent = DQN_FC(size, lr=1e-3, epsilon = 0.1, memory_size=2000, batch_size = 32)\n",
    "train(agent, env, 20, prefix='fc_train')\n"
   ]
  },
  {
   "cell_type": "code",
   "execution_count": 45,
   "metadata": {},
   "outputs": [
    {
     "data": {
      "text/html": [
       "<video alt=\"test\" controls>\n",
       "                <source src=\"data:video/mp4;base64,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\" type=\"video/mp4\" />\n",
       "             </video>"
      ],
      "text/plain": [
       "<IPython.core.display.HTML object>"
      ]
     },
     "execution_count": 45,
     "metadata": {},
     "output_type": "execute_result"
    }
   ],
   "source": [
    "HTML(display_videos('fc_train10.mp4'))"
   ]
  },
  {
   "cell_type": "markdown",
   "metadata": {},
   "source": [
    "***\n",
    "***\n",
    "__Question 8__ Implement the DQN training algorithm using a CNN (for example, 2 convolutional layers and one final fully connected layer)."
   ]
  },
  {
   "cell_type": "code",
   "execution_count": 46,
   "metadata": {},
   "outputs": [],
   "source": [
    "class DQN_CNN(DQN):\n",
    "    def __init__(self, *args,lr=0.1,**kwargs):\n",
    "        super(DQN_CNN, self).__init__(*args,**kwargs)\n",
    "        \n",
    "        ###### FILL IN\n",
    "        model = Sequential()\n",
    "        model.add(Conv2D(16, (3, 3),input_shape=(5,5, self.n_state), activation='relu')) #8 filters, kernel size = (3,3)\n",
    "        model.add(Conv2D(32, (2, 2), activation='relu'))\n",
    "        model.add(Flatten())\n",
    "        model.add(Dense(4, activation='linear'))\n",
    "        model.compile(adam(lr=lr, decay=1e-4), \"mse\")\n",
    "        self.model = model\n",
    "        \n"
   ]
  },
  {
   "cell_type": "code",
   "execution_count": 47,
   "metadata": {},
   "outputs": [
    {
     "name": "stdout",
     "output_type": "stream",
     "text": [
      "Epoch 000/020 | Loss 1.7641 | Win/lose count 5.0/2.0 (3.0)\n",
      "Epoch 001/020 | Loss 1.8294 | Win/lose count 2.0/2.0 (0.0)\n",
      "Epoch 002/020 | Loss 1.5766 | Win/lose count 2.5/6.0 (-3.5)\n",
      "Epoch 003/020 | Loss 1.5312 | Win/lose count 9.5/12.0 (-2.5)\n",
      "Epoch 004/020 | Loss 1.6716 | Win/lose count 11.5/4.0 (7.5)\n",
      "Epoch 005/020 | Loss 1.8783 | Win/lose count 6.5/1.0 (5.5)\n",
      "Epoch 006/020 | Loss 1.9296 | Win/lose count 6.5/3.0 (3.5)\n",
      "Epoch 007/020 | Loss 1.8747 | Win/lose count 7.5/2.0 (5.5)\n",
      "Epoch 008/020 | Loss 1.8695 | Win/lose count 3.0/2.0 (1.0)\n",
      "Epoch 009/020 | Loss 1.8004 | Win/lose count 8.5/3.0 (5.5)\n",
      "Epoch 010/020 | Loss 1.8726 | Win/lose count 8.0/1.0 (7.0)\n",
      "Epoch 011/020 | Loss 1.9899 | Win/lose count 5.0/1.0 (4.0)\n",
      "Epoch 012/020 | Loss 1.8842 | Win/lose count 8.0/3.0 (5.0)\n",
      "Epoch 013/020 | Loss 1.8988 | Win/lose count 7.0/1.0 (6.0)\n",
      "Epoch 014/020 | Loss 1.8816 | Win/lose count 8.0/1.0 (7.0)\n",
      "Epoch 015/020 | Loss 1.8299 | Win/lose count 14.0/2.0 (12.0)\n",
      "Epoch 016/020 | Loss 1.8843 | Win/lose count 8.5/1.0 (7.5)\n",
      "Epoch 017/020 | Loss 1.8343 | Win/lose count 8.5/2.0 (6.5)\n",
      "Epoch 018/020 | Loss 1.7155 | Win/lose count 9.5/5.0 (4.5)\n",
      "Epoch 019/020 | Loss 1.8684 | Win/lose count 14.5/1.0 (13.5)\n"
     ]
    }
   ],
   "source": [
    "env = Environment(grid_size=size, max_time=T, temperature=0.3)\n",
    "agent = DQN_CNN(size, lr=1e-3, epsilon = 0.1, memory_size=2000, batch_size = 32)\n",
    "train(agent,env,20,prefix='cnn_train')\n"
   ]
  },
  {
   "cell_type": "code",
   "execution_count": 48,
   "metadata": {},
   "outputs": [
    {
     "data": {
      "text/html": [
       "<video alt=\"test\" controls>\n",
       "                <source src=\"data:video/mp4;base64,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\" type=\"video/mp4\" />\n",
       "             </video>"
      ],
      "text/plain": [
       "<IPython.core.display.HTML object>"
      ]
     },
     "execution_count": 48,
     "metadata": {},
     "output_type": "execute_result"
    }
   ],
   "source": [
    "HTML(display_videos('cnn_train10.mp4'))"
   ]
  },
  {
   "cell_type": "markdown",
   "metadata": {},
   "source": [
    "***\n",
    "***\n",
    "__Question 9__ Test both algorithms and compare their performances. Which issue(s) do you observe? Observe also different behaviors by changing the temperature."
   ]
  },
  {
   "cell_type": "code",
   "execution_count": 49,
   "metadata": {},
   "outputs": [
    {
     "name": "stdout",
     "output_type": "stream",
     "text": [
      "_________________________________________________________________\n",
      "Layer (type)                 Output Shape              Param #   \n",
      "=================================================================\n",
      "flatten_11 (Flatten)         (None, 50)                0         \n",
      "_________________________________________________________________\n",
      "dense_17 (Dense)             (None, 25)                1275      \n",
      "_________________________________________________________________\n",
      "dense_18 (Dense)             (None, 4)                 104       \n",
      "=================================================================\n",
      "Total params: 1,379\n",
      "Trainable params: 1,379\n",
      "Non-trainable params: 0\n",
      "_________________________________________________________________\n",
      "Test of the CNN\n",
      "Win/lose count 15.5/0. Average score (31.0)\n",
      "Final score: 1.55\n",
      "Win/lose count 23.5/0. Average score (39.0)\n",
      "Final score: 3.9\n",
      "Win/lose count 31.5/2.0. Average score (45.666666666666664)\n",
      "Final score: 6.85\n",
      "Win/lose count 21.0/0. Average score (44.75)\n",
      "Final score: 8.95\n",
      "Win/lose count 21.0/2.0. Average score (43.4)\n",
      "Final score: 10.85\n",
      "Win/lose count 20.5/2.0. Average score (42.333333333333336)\n",
      "Final score: 12.7\n",
      "Win/lose count 21.0/1.0. Average score (42.0)\n",
      "Final score: 14.7\n",
      "Win/lose count 22.5/2.0. Average score (41.875)\n",
      "Final score: 16.75\n",
      "Win/lose count 16.0/0. Average score (40.77777777777778)\n",
      "Final score: 18.35\n",
      "Win/lose count 3.5/0. Average score (37.4)\n",
      "Final score: 18.7\n",
      "Win/lose count 29.0/1.0. Average score (39.09090909090909)\n",
      "Final score: 21.5\n",
      "Win/lose count 21.0/0. Average score (39.333333333333336)\n",
      "Final score: 23.6\n",
      "Win/lose count 18.0/1.0. Average score (38.92307692307692)\n",
      "Final score: 25.3\n",
      "Win/lose count 44.0/1.0. Average score (42.285714285714285)\n",
      "Final score: 29.6\n",
      "Win/lose count 18.0/2.0. Average score (41.6)\n",
      "Final score: 31.2\n",
      "Win/lose count 16.5/1.0. Average score (40.9375)\n",
      "Final score: 32.75\n",
      "Win/lose count 12.5/0. Average score (40.0)\n",
      "Final score: 34.0\n",
      "Win/lose count 36.5/2.0. Average score (41.611111111111114)\n",
      "Final score: 37.45\n",
      "Win/lose count 19.0/0. Average score (41.421052631578945)\n",
      "Final score: 39.35\n",
      "Win/lose count 13.5/1.0. Average score (40.6)\n",
      "Final score: 40.6\n",
      "Test of the FC\n",
      "Win/lose count 13.0/4.0. Average score (18.0)\n",
      "Final score: 0.9\n",
      "Win/lose count 9.5/1.0. Average score (17.5)\n",
      "Final score: 1.75\n",
      "Win/lose count 8.0/0. Average score (17.0)\n",
      "Final score: 2.55\n",
      "Win/lose count 9.5/2.0. Average score (16.5)\n",
      "Final score: 3.3\n",
      "Win/lose count 13.5/1.0. Average score (18.2)\n",
      "Final score: 4.55\n",
      "Win/lose count 21.0/2.0. Average score (21.5)\n",
      "Final score: 6.45\n",
      "Win/lose count 15.0/4.0. Average score (21.571428571428573)\n",
      "Final score: 7.55\n",
      "Win/lose count 7.0/0. Average score (20.625)\n",
      "Final score: 8.25\n",
      "Win/lose count 26.5/4.0. Average score (23.333333333333332)\n",
      "Final score: 10.5\n",
      "Win/lose count 12.0/0. Average score (23.4)\n",
      "Final score: 11.7\n",
      "Win/lose count 6.0/0. Average score (22.363636363636363)\n",
      "Final score: 12.3\n",
      "Win/lose count 15.5/3.0. Average score (22.583333333333332)\n",
      "Final score: 13.55\n",
      "Win/lose count 17.5/1.0. Average score (23.384615384615383)\n",
      "Final score: 15.2\n",
      "Win/lose count 18.0/0. Average score (24.285714285714285)\n",
      "Final score: 17.0\n",
      "Win/lose count 10.0/3.0. Average score (23.6)\n",
      "Final score: 17.7\n",
      "Win/lose count 14.0/0. Average score (23.875)\n",
      "Final score: 19.1\n",
      "Win/lose count 22.0/0. Average score (25.058823529411764)\n",
      "Final score: 21.3\n",
      "Win/lose count 32.0/0. Average score (27.22222222222222)\n",
      "Final score: 24.5\n",
      "Win/lose count 11.0/2.0. Average score (26.736842105263158)\n",
      "Final score: 25.4\n",
      "Win/lose count 16.0/1.0. Average score (26.9)\n",
      "Final score: 26.9\n"
     ]
    }
   ],
   "source": [
    "env = Environment(grid_size=size, max_time=T,temperature=0.9)\n",
    "agent_cnn = DQN_CNN(size, lr=1e-3, epsilon = 0.1, memory_size=2000, batch_size = 32)\n",
    "agent_cnn.load(name_weights='cnn_trainmodel.h5',name_model='cnn_trainmodel.json')\n",
    "\n",
    "agent_fc = DQN_FC(size, lr=1e-3, epsilon = 0.1, memory_size=2000, batch_size = 32)\n",
    "agent_cnn.load(name_weights='fc_trainmodel.h5',name_model='fc_trainmodel.json')\n",
    "print('Test of the CNN')\n",
    "test(agent_cnn,env,epochs_test,prefix='cnn_test')\n",
    "print('Test of the FC')\n",
    "test(agent_fc,env,epochs_test,prefix='fc_test')"
   ]
  },
  {
   "cell_type": "code",
   "execution_count": 20,
   "metadata": {},
   "outputs": [
    {
     "data": {
      "text/html": [
       "<video alt=\"test\" controls>\n",
       "                <source src=\"data:video/mp4;base64,AAAAIGZ0eXBpc29tAAACAGlzb21pc28yYXZjMW1wNDEAAAAIZnJlZQAAFf9tZGF0AAACnwYF//+b3EXpvebZSLeWLNgg2SPu73gyNjQgLSBjb3JlIDE1OSAtIEguMjY0L01QRUctNCBBVkMgY29kZWMgLSBDb3B5bGVmdCAyMDAzLTIwMTkgLSBodHRwOi8vd3d3LnZpZGVvbGFuLm9yZy94MjY0Lmh0bWwgLSBvcHRpb25zOiBjYWJhYz0xIHJlZj0zIGRlYmxvY2s9MTowOjAgYW5hbHlzZT0weDM6MHgxMTMgbWU9aGV4IHN1Ym1lPTcgcHN5PTEgcHN5X3JkPTEuMDA6MC4wMCBtaXhlZF9yZWY9MSBtZV9yYW5nZT0xNiBjaHJvbWFfbWU9MSB0cmVsbGlzPTEgOHg4ZGN0PTEgY3FtPTAgZGVhZHpvbmU9MjEsMTEgZmFzdF9wc2tpcD0xIGNocm9tYV9xcF9vZmZzZXQ9NCB0aHJlYWRzPTggbG9va2FoZWFkX3RocmVhZHM9MSBzbGljZWRfdGhyZWFkcz0wIG5yPTAgZGVjaW1hdGU9MSBpbnRlcmxhY2VkPTAgYmx1cmF5X2NvbXBhdD0wIGNvbnN0cmFpbmVkX2ludHJhPTAgYmZyYW1lcz0zIGJfcHlyYW1pZD0yIGJfYWRhcHQ9MSBiX2JpYXM9MCBkaXJlY3Q9MSB3ZWlnaHRiPTEgb3Blbl9nb3A9MCB3ZWlnaHRwPTIga2V5aW50PTI1MCBrZXlpbnRfbWluPTI1IHNjZW5lY3V0PTQwIGludHJhX3JlZnJlc2g9MCByY19sb29rYWhlYWQ9NDAgcmM9Y3JmIG1idHJlZT0xIGNyZj0yMy4wIHFjb21wPTAuNjAgcXBtaW49MCBxcG1heD02OSBxcHN0ZXA9NCBpcF9yYXRpbz0xLjQwIGFxPTE6MS4wMACAAAABa2WIhAA3//72h/gU2VgTun/9P+C6zp85f52wATTYAUhuYKf8NTRfApLb/8CmWx5MX/3X//Rb/Mj5M9IcBHofHiGgjAMy5P8oD3CkO50F7CupWns+wxU0qcnMVWjhP/GzkjBoruSV7KNDGB8NV07vCIYdmQlMunIvWEX3mSCgEdUwcqAAALSzkrGkmifo531Cd2AAAAMAHZbBg4NW5ke5oewZmABi1IlQXoEWhYaGc7iES7TqIeg7VWkD56UwnROhAhTGnDJTvDRJGqBcmc6xMk33Hgk65VqyHl1is6y2+8vTVg+Ge7VYMA1RlrIpw4O4W5W+M5F6ppJN68oypm8HA8lv1h9uVGsRXjPHqsVaBNMK4fOe+zz7KaWRuP4XwovOAVxrMIqmK78lLWRKrDTstX9B9JIypwcxi1ylrp70JBHTLhQ4u/c5IRzf0zfYQP5QPqIgilb3aQBESkO/dd6GMU4ptwG6NBhIhGADQwAAAEVBmiNsQz/+nhAAc9nQmPP//H9FzQEsSK9U7GN+lx3//4+8mgJSD6p6offSv//x/Us0BLGdbVPayfrDDCX9uOMGwmeR9YAAAAAQQZ5BeIV/ABiLKu5DZ1by5wAAABABnmJqQr8AGII7c60ML2NAAAAAGUGaZEmoQWiZTAhn//6eEABJviHnW6BkizUAAAAYQZqFSeEKUmUwIZ/+nhAAbmQxz+HOb63lAAAAG0GapknhDomUwIZ//p4QAKxwY5/DnxAUz9axwQAAABlBmsdJ4Q8mUwIZ//6eEACw17i/8R1CW+CBAAAAGUGa6EnhDyZTAhn//p4QALVXuL/xHUJb24AAAAAZQZsJSeEPJlMCG//+p4QAL66tHR9xswWG0AAAACFBmytJ4Q8mUwURPDP//p4QALnXuNIxs9VuLWW/uJ33D10AAAAQAZ9KakK/ACayyGH0BIOU+AAAABxBm0xJ4Q8mUwIZ//6eEAB7/XGtNdgkCstBfudMAAAAHkGbbUnhDyZTAhv//qeEACCj5jjf+KnNQtKIIZ+5xwAAABxBm5BJ4Q8mUwIZ//6eEACCiJqLz6j8gUI/KAGBAAAAEkGfrkURPCv/ABumbmuPe9T8gQAAAA4Bn89qQr8AG6JDPRFd7gAAABtBm9FJqEFomUwIZ//+nhAAVH3gAc377jH1hpIAAAAXQZvySeEKUmUwIZ/+nhAAU/2pyGxaklUAAAAYQZoTSeEOiZTAhv/+p4QAFhxWkEIn+W6bAAAAGkGaNEnhDyZTAhv//qeEABasVpBCUQdv9GzdAAAAI0GaWEnhDyZTAhv//qeEABc8Wzb4bQeqgQn+LP/McONF1MAhAAAAEUGedkURPC//AA3QfWFV69W4AAAADgGelXRCvwAS3cd55xeHAAAAEAGel2pCvwASWWQw+gJB0ZkAAAAbQZqbSahBaJlMCGf//p4QAIanOOfykfX33edAAAAAE0GeuUURLCv/ABxWfNDwi1eGiYEAAAAQAZ7aakK/ABxWfMbockHMuAAAABlBmtxJqEFsmUwIZ//+nhAA0shjn6MB2aD/AAAAGUGa/UnhClJlMCG//qeEAFP9E/1I6NIaoEEAAAAgQZsfSeEOiZTBTRMM//6eEAH69cjdjhhB1lHuMfzbg4AAAAAQAZ8+akK/AGwdqW4bNqa4gAAAABlBmyBJ4Q8mUwIb//6nhACCoAswY7MmrbsxAAAAGUGbQUnhDyZTAhv//qeEAH9+AwbP7oDJhnwAAAAZQZtiSeEPJlMCHf/+qZYAKp76sqszbMBTQQAAACBBm4ZJ4Q8mUwIb//6nhAB8vfZ73x22MalmjF4Ua3N8UgAAABZBn6RFETwv/wBLZ7xT9cbKmmwVgGtBAAAAEAGfw3RCvwBnLKu5DZUpEOEAAAAQAZ/FakK/AGSJbTrwBP7TgQAAABxBm8hJqEFomUwU8O/+qZYAGygwxYzS/b5vFTTpAAAAEAGf52pCvwAsVhHkuZ8lUYAAAAAnQZvsSeEKUmUwIb/+p4QAzfsvq+BTX1CvwKVLZ+BTOwMR3863Th2AAAAAFUGeCkU0TC//AHmTo9D+dM4t9WCMeQAAABABnil0Qr8ARXzVA6dqGzmAAAAAEAGeK2pCvwCoWPHK/tw+ncAAAAAaQZovSahBaJlMCG///qeEAMzSJ/KYJvYV1TEAAAASQZ5NRREsK/8AqDYAgFMA5BJBAAAADgGebmpCvwCocpV1Om2LAAAAGkGacEmoQWyZTAhv//6nhAE0QBZttn2fNEnAAAAAM0Gak0nhClJlMCG//qeEApLiHfxCOcGv/wlCs+L//CO0mL//CUTA4EMah4G3X/ubfbORsAAAABJBnrFFNEwr/wGTdbys8NlZFK0AAAAQAZ7SakK/AZOGl3D7ZtHw8AAAACBBmtdJqEFomUwIb//+p4QJ6/CjWbVw77PhGQIT8OyR8AAAABFBnvVFESwv/wHWnRH0ZhBUwQAAAA8BnxR0Qr8Bk3k3nnFoyoAAAAAQAZ8WakK/AnY/bpUOSCsM+QAAABlBmxhJqEFsmUwIb//+p4QJ8wxqa5I5D0nNAAAAIEGbPEnhClJlMCG//qeEAkndT75aBCfyIx762YoSGvJeAAAAEUGfWkU0TC//ARaetVc0tFfBAAAAEAGfeXRCvwF/AADJLf62bMAAAAAPAZ97akK/APJzholc8ulJAAAAGUGbfkmoQWiZTBTwz/6eEAiJimkXxD8vVlEAAAAQAZ+dakK/AX91TyYHr2zZgAAAABhBm59J4QpSZTAhv/6nhAJhFaQQif4F8ekAAAAXQZugSeEOiZTAhv/+p4QCh7391e5LYqcAAAAZQZvBSeEPJlMCHf/+qZYG1yDM9tUAP+cpeQAAABFBm+VJ4Q8mUwIb//6nhAABJwAAAAxBngNFETwv/wAAsoAAAAAQAZ4idEK/ArBAHQhw5BsjYQAAABABniRqQr8Crta7t+HINkbBAAAAGkGaJkmoQWiZTAh3//6plgbXIMz1Y2oEvGzBAAAAG0GaSUnhClJlMCHf/qmWAUztqAf3hagn50JCwQAAABJBnmdFNEwr/wGTI9EApgHHw8AAAAAOAZ6IakK/AZOxKup02UkAAAAWQZqNSahBaJlMCHf//qmWBh9HPtbBTQAAABJBnqtFESwv/wICOExQ6LEjqDgAAAAPAZ7KdEK/Aq/NUDpuX5EHAAAAEAGezGpCvwKuT5zrM/BOuIEAAAATQZrRSahBbJlMCHf//qmWAACVgQAAAAxBnu9FFSwv/wAAsoEAAAAQAZ8OdEK/AZN5N0dt8KjpgAAAAA8BnxBqQr8BkwWNErnl0ZUAAAATQZsVSahBbJlMCHf//qmWAACVgQAAAAxBnzNFFSwv/wAAsoAAAAAQAZ9SdEK/AZN5N0dt8KjpgAAAAA8Bn1RqQr8BkwWNErnl0ZUAAAATQZtZSahBbJlMCHf//qmWAACVgAAAAAxBn3dFFSwv/wAAsoEAAAAQAZ+WdEK/AZN5N0dt8KjpgQAAAA8Bn5hqQr8BkwWNErnl0ZUAAAATQZudSahBbJlMCHf//qmWAACVgQAAAAxBn7tFFSwv/wAAsoAAAAAQAZ/adEK/AZN5N0dt8KjpgQAAAA8Bn9xqQr8BkwWNErnl0ZUAAAATQZvBSahBbJlMCHf//qmWAACVgAAAAAxBn/9FFSwv/wAAsoAAAAAQAZ4edEK/AZN5N0dt8KjpgQAAAA8BngBqQr8BkwWNErnl0ZUAAAATQZoFSahBbJlMCHf//qmWAACVgQAAAAxBniNFFSwv/wAAsoAAAAAQAZ5CdEK/AZN5N0dt8KjpgQAAAA8BnkRqQr8BkwWNErnl0ZUAAAATQZpJSahBbJlMCHf//qmWAACVgQAAAAxBnmdFFSwv/wAAsoEAAAAQAZ6GdEK/AZN5N0dt8KjpgAAAAA8BnohqQr8BkwWNErnl0ZUAAAATQZqNSahBbJlMCHf//qmWAACVgQAAAAxBnqtFFSwv/wAAsoAAAAAQAZ7KdEK/AZN5N0dt8KjpgAAAAA8BnsxqQr8BkwWNErnl0ZUAAAATQZrRSahBbJlMCHf//qmWAACVgQAAAAxBnu9FFSwv/wAAsoEAAAAPAZ8OdEK/AYUr3cj1pqO6AAAADwGfEGpCvwGTBY0SueXRlQAAABxBmxVJqEFsmUwId//+qZYG0lmLTM91N2l9cZbRAAAAEEGfM0UVLC//AgEgO1Fti4AAAAAPAZ9SdEK/Aq/R2QbJdePuAAAADwGfVGpCvwKwNXMV/dSpgQAAABhBm1lJqEFsmUwId//+qZYG2uPd6eu0iTgAAAAQQZ93RRUsL/8CASA7UW2LgQAAAA8Bn5Z0Qr8CrdkLbe5E8fcAAAAPAZ+YakK/AZMFjYHKbKSAAAAAE0GbnUmoQWyZTAh3//6plgAAlYEAAAAMQZ+7RRUsL/8AALKAAAAAEAGf2nRCvwGTeTdHbfCo6YEAAAAPAZ/cakK/AZMFjRK55dGVAAAAE0GbwUmoQWyZTAh3//6plgAAlYAAAAAMQZ//RRUsL/8AALKAAAAAEAGeHnRCvwGTeTdHbfCo6YEAAAAPAZ4AakK/AYUr3OUjuWVMAAAAE0GaBUmoQWyZTAh3//6plgAAlYEAAAAUQZ4jRRUsL/8CAN50zitW4tdRVTAAAAAPAZ5CdEK/Aq/R2QbJdePvAAAAEAGeRGpCvwKuT5zrM/BOuIEAAAATQZpJSahBbJlMCHf//qmWAACVgQAAAAxBnmdFFSwv/wAAsoEAAAAQAZ6GdEK/AZN5N0dt8KjpgAAAAA8BnohqQr8BkwWNErnl0ZUAAAATQZqNSahBbJlMCHf//qmWAACVgQAAAAxBnqtFFSwv/wAAsoAAAAAQAZ7KdEK/AZN5N0dt8KjpgAAAAA8BnsxqQr8BkwWNErnl0ZUAAAATQZrRSahBbJlMCHf//qmWAACVgQAAAAxBnu9FFSwv/wAAsoEAAAAQAZ8OdEK/AZN5N0dt8KjpgAAAAA8BnxBqQr8BkwWNErnl0ZUAAAATQZsVSahBbJlMCHf//qmWAACVgQAAABRBnzNFFSwv/wEb0e7al8e3x6RNSAAAABABn1J0Qr8Bk3k3lbKHo2/AAAAAEAGfVGpCvwGTBY17zSs2UkEAAAATQZtZSahBbJlMCHf//qmWAACVgAAAAAxBn3dFFSwv/wAAsoEAAAAQAZ+WdEK/AZN5N0dt8KjpgQAAAA8Bn5hqQr8BkwWNErnl0ZUAAAAcQZudSahBbJlMCHf//qmWBtJZi0zPdTdpfXGW0QAAABBBn7tFFSwv/wIB3x3Oe2LgAAAADwGf2nRCvwGTeTeecWjKgQAAAA8Bn9xqQr8Cr2dH4bNo8fcAAAATQZvBSahBbJlMCHf//qmWAACVgAAAAAxBn/9FFSwv/wAAsoAAAAAQAZ4edEK/ArBAHQhw5BsjYQAAABABngBqQr8Crta7t+HINkbAAAAAE0GaBUmoQWyZTAh3//6plgAAlYEAAAAMQZ4jRRUsL/8AALKAAAAAEAGeQnRCvwKwQB0IcOQbI2EAAAAQAZ5EakK/Aq7Wu7fhyDZGwQAAABNBmklJqEFsmUwId//+qZYAAJWBAAAADEGeZ0UVLC//AACygQAAABABnoZ0Qr8CsEAdCHDkGyNgAAAAEAGeiGpCvwKu1ru34cg2RsAAAAATQZqNSahBbJlMCHf//qmWAACVgQAAAAxBnqtFFSwv/wAAsoAAAAAQAZ7KdEK/ArBAHQhw5BsjYAAAABABnsxqQr8Crta7t+HINkbBAAAAE0Ga0UmoQWyZTAh3//6plgAAlYEAAAAMQZ7vRRUsL/8AALKBAAAAEAGfDnRCvwKwQB0IcOQbI2AAAAAQAZ8QakK/Aq7Wu7fhyDZGwAAAABNBmxVJqEFsmUwId//+qZYAAJWBAAAADEGfM0UVLC//AACygAAAABABn1J0Qr8CsEAdCHDkGyNgAAAAEAGfVGpCvwKu1ru34cg2RsEAAAATQZtZSahBbJlMCHf//qmWAACVgAAAAAxBn3dFFSwv/wAAsoEAAAAQAZ+WdEK/ArBAHQhw5BsjYQAAABABn5hqQr8Crta7t+HINkbAAAAAE0GbnUmoQWyZTAh3//6plgAAlYEAAAAMQZ+7RRUsL/8AALKAAAAAEAGf2nRCvwKwQB0IcOQbI2EAAAAQAZ/cakK/Aq7Wu7fhyDZGwQAAABJBm8FJqEFsmUwIb//+p4QAAScAAAAUQZ//RRUsL/8CAXtitYl/83WI8z4AAAAQAZ4edEK/Aq3VoySp0ZLjgQAAAA8BngBqQr8Cr2dH4bNo8fcAAAASQZoFSahBbJlMCGf//p4QAAR9AAAADEGeI0UVLC//AACygAAAABABnkJ0Qr8CsEAdCHDkGyNhAAAAEAGeRGpCvwKu1ru34cg2RsEAAAAaQZpJS6hCEFskRggoB/IB/YeAIV/+OEAAEXEAAAAjQZ5nRRUsL/8CAdzqS9szCrmA6Bq1qFwJQBlok8LfMpM0nDEAAAAQAZ6GdEK/ArBAHQhw5BsjYAAAACMBnohqQr8CkWPtQcTdqsNUN/jFBqoXmSbsYv/F3Ali0YY9oAAAC+1tb292AAAAbG12aGQAAAAAAAAAAAAAAAAAAAPoAAAfkAABAAABAAAAAAAAAAAAAAAAAQAAAAAAAAAAAAAAAAAAAAEAAAAAAAAAAAAAAAAAAEAAAAAAAAAAAAAAAAAAAAAAAAAAAAAAAAAAAAAAAAACAAALF3RyYWsAAABcdGtoZAAAAAMAAAAAAAAAAAAAAAEAAAAAAAAfkAAAAAAAAAAAAAAAAAAAAAAAAQAAAAAAAAAAAAAAAAAAAAEAAAAAAAAAAAAAAAAAAEAAAAABEAAAARAAAAAAACRlZHRzAAAAHGVsc3QAAAAAAAAAAQAAH5AAAAQAAAEAAAAACo9tZGlhAAAAIG1kaGQAAAAAAAAAAAAAAAAAADIAAAGUAFXEAAAAAAAtaGRscgAAAAAAAAAAdmlkZQAAAAAAAAAAAAAAAFZpZGVvSGFuZGxlcgAAAAo6bWluZgAAABR2bWhkAAAAAQAAAAAAAAAAAAAAJGRpbmYAAAAcZHJlZgAAAAAAAAABAAAADHVybCAAAAABAAAJ+nN0YmwAAACac3RzZAAAAAAAAAABAAAAimF2YzEAAAAAAAAAAQAAAAAAAAAAAAAAAAAAAAABEAEQAEgAAABIAAAAAAAAAAEAAAAAAAAAAAAAAAAAAAAAAAAAAAAAAAAAAAAAAAAAAAAY//8AAAA0YXZjQwH0AA3/4QAXZ/QADZGbKCIR0IAAAAMAgAAAGQeKFMsBAAZo6+PESET/+PgAAAAAGHN0dHMAAAAAAAAAAQAAAMoAAAIAAAAAFHN0c3MAAAAAAAAAAQAAAAEAAAXAY3R0cwAAAAAAAAC2AAAAAQAABAAAAAABAAAIAAAAAAIAAAIAAAAABgAABAAAAAABAAAGAAAAAAEAAAIAAAAAAgAABAAAAAABAAAIAAAAAAIAAAIAAAAABAAABAAAAAABAAAKAAAAAAEAAAQAAAAAAQAAAAAAAAABAAACAAAAAAEAAAgAAAAAAgAAAgAAAAACAAAEAAAAAAEAAAYAAAAAAQAAAgAAAAADAAAEAAAAAAEAAAoAAAAAAQAABAAAAAABAAAAAAAAAAEAAAIAAAAAAQAABgAAAAABAAACAAAAAAEAAAoAAAAAAQAABAAAAAABAAAAAAAAAAEAAAIAAAAAAQAACAAAAAACAAACAAAAAAEAAAQAAAAAAQAACAAAAAACAAACAAAAAAEAAAoAAAAAAQAABAAAAAABAAAAAAAAAAEAAAIAAAAAAQAABAAAAAABAAAKAAAAAAEAAAQAAAAAAQAAAAAAAAABAAACAAAAAAEAAAYAAAAAAQAAAgAAAAADAAAEAAAAAAEAAAoAAAAAAQAABAAAAAABAAAAAAAAAAEAAAIAAAAAAQAABAAAAAABAAAIAAAAAAIAAAIAAAAAAQAACgAAAAABAAAEAAAAAAEAAAAAAAAAAQAAAgAAAAABAAAKAAAAAAEAAAQAAAAAAQAAAAAAAAABAAACAAAAAAEAAAoAAAAAAQAABAAAAAABAAAAAAAAAAEAAAIAAAAAAQAACgAAAAABAAAEAAAAAAEAAAAAAAAAAQAAAgAAAAABAAAKAAAAAAEAAAQAAAAAAQAAAAAAAAABAAACAAAAAAEAAAoAAAAAAQAABAAAAAABAAAAAAAAAAEAAAIAAAAAAQAACgAAAAABAAAEAAAAAAEAAAAAAAAAAQAAAgAAAAABAAAKAAAAAAEAAAQAAAAAAQAAAAAAAAABAAACAAAAAAEAAAoAAAAAAQAABAAAAAABAAAAAAAAAAEAAAIAAAAAAQAACgAAAAABAAAEAAAAAAEAAAAAAAAAAQAAAgAAAAABAAAKAAAAAAEAAAQAAAAAAQAAAAAAAAABAAACAAAAAAEAAAoAAAAAAQAABAAAAAABAAAAAAAAAAEAAAIAAAAAAQAACgAAAAABAAAEAAAAAAEAAAAAAAAAAQAAAgAAAAABAAAKAAAAAAEAAAQAAAAAAQAAAAAAAAABAAACAAAAAAEAAAoAAAAAAQAABAAAAAABAAAAAAAAAAEAAAIAAAAAAQAACgAAAAABAAAEAAAAAAEAAAAAAAAAAQAAAgAAAAABAAAKAAAAAAEAAAQAAAAAAQAAAAAAAAABAAACAAAAAAEAAAoAAAAAAQAABAAAAAABAAAAAAAAAAEAAAIAAAAAAQAACgAAAAABAAAEAAAAAAEAAAAAAAAAAQAAAgAAAAABAAAKAAAAAAEAAAQAAAAAAQAAAAAAAAABAAACAAAAAAEAAAoAAAAAAQAABAAAAAABAAAAAAAAAAEAAAIAAAAAAQAACgAAAAABAAAEAAAAAAEAAAAAAAAAAQAAAgAAAAABAAAKAAAAAAEAAAQAAAAAAQAAAAAAAAABAAACAAAAAAEAAAoAAAAAAQAABAAAAAABAAAAAAAAAAEAAAIAAAAAAQAACgAAAAABAAAEAAAAAAEAAAAAAAAAAQAAAgAAAAABAAAKAAAAAAEAAAQAAAAAAQAAAAAAAAABAAACAAAAAAEAAAoAAAAAAQAABAAAAAABAAAAAAAAAAEAAAIAAAAAAQAACgAAAAABAAAEAAAAAAEAAAAAAAAAAQAAAgAAAAABAAAKAAAAAAEAAAQAAAAAAQAAAAAAAAABAAACAAAAAAEAAAoAAAAAAQAABAAAAAABAAAAAAAAAAEAAAIAAAAAAQAACgAAAAABAAAEAAAAAAEAAAAAAAAAAQAAAgAAAAABAAAKAAAAAAEAAAQAAAAAAQAAAAAAAAABAAACAAAAABxzdHNjAAAAAAAAAAEAAAABAAAAygAAAAEAAAM8c3RzegAAAAAAAAAAAAAAygAABBIAAABJAAAAFAAAABQAAAAdAAAAHAAAAB8AAAAdAAAAHQAAAB0AAAAlAAAAFAAAACAAAAAiAAAAIAAAABYAAAASAAAAHwAAABsAAAAcAAAAHgAAACcAAAAVAAAAEgAAABQAAAAfAAAAFwAAABQAAAAdAAAAHQAAACQAAAAUAAAAHQAAAB0AAAAdAAAAJAAAABoAAAAUAAAAFAAAACAAAAAUAAAAKwAAABkAAAAUAAAAFAAAAB4AAAAWAAAAEgAAAB4AAAA3AAAAFgAAABQAAAAkAAAAFQAAABMAAAAUAAAAHQAAACQAAAAVAAAAFAAAABMAAAAdAAAAFAAAABwAAAAbAAAAHQAAABUAAAAQAAAAFAAAABQAAAAeAAAAHwAAABYAAAASAAAAGgAAABYAAAATAAAAFAAAABcAAAAQAAAAFAAAABMAAAAXAAAAEAAAABQAAAATAAAAFwAAABAAAAAUAAAAEwAAABcAAAAQAAAAFAAAABMAAAAXAAAAEAAAABQAAAATAAAAFwAAABAAAAAUAAAAEwAAABcAAAAQAAAAFAAAABMAAAAXAAAAEAAAABQAAAATAAAAFwAAABAAAAATAAAAEwAAACAAAAAUAAAAEwAAABMAAAAcAAAAFAAAABMAAAATAAAAFwAAABAAAAAUAAAAEwAAABcAAAAQAAAAFAAAABMAAAAXAAAAGAAAABMAAAAUAAAAFwAAABAAAAAUAAAAEwAAABcAAAAQAAAAFAAAABMAAAAXAAAAEAAAABQAAAATAAAAFwAAABgAAAAUAAAAFAAAABcAAAAQAAAAFAAAABMAAAAgAAAAFAAAABMAAAATAAAAFwAAABAAAAAUAAAAFAAAABcAAAAQAAAAFAAAABQAAAAXAAAAEAAAABQAAAAUAAAAFwAAABAAAAAUAAAAFAAAABcAAAAQAAAAFAAAABQAAAAXAAAAEAAAABQAAAAUAAAAFwAAABAAAAAUAAAAFAAAABcAAAAQAAAAFAAAABQAAAAWAAAAGAAAABQAAAATAAAAFgAAABAAAAAUAAAAFAAAAB4AAAAnAAAAFAAAACcAAAAUc3RjbwAAAAAAAAABAAAAMAAAAGJ1ZHRhAAAAWm1ldGEAAAAAAAAAIWhkbHIAAAAAAAAAAG1kaXJhcHBsAAAAAAAAAAAAAAAALWlsc3QAAAAlqXRvbwAAAB1kYXRhAAAAAQAAAABMYXZmNTguMzYuMTAw\" type=\"video/mp4\" />\n",
       "             </video>"
      ],
      "text/plain": [
       "<IPython.core.display.HTML object>"
      ]
     },
     "execution_count": 20,
     "metadata": {},
     "output_type": "execute_result"
    }
   ],
   "source": [
    "HTML(display_videos('cnn_test10.mp4'))"
   ]
  },
  {
   "cell_type": "code",
   "execution_count": 21,
   "metadata": {},
   "outputs": [
    {
     "data": {
      "text/html": [
       "<video alt=\"test\" controls>\n",
       "                <source src=\"data:video/mp4;base64,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\" type=\"video/mp4\" />\n",
       "             </video>"
      ],
      "text/plain": [
       "<IPython.core.display.HTML object>"
      ]
     },
     "execution_count": 21,
     "metadata": {},
     "output_type": "execute_result"
    }
   ],
   "source": [
    "HTML(display_videos('fc_test10.mp4'))"
   ]
  },
  {
   "cell_type": "markdown",
   "metadata": {},
   "source": [
    "I tried two types of optimizer : SGD (with and without momentum) and Adam. I chose to use Adam since the network learn better with this optimizer.\n",
    "-Both algorithms must be improved since the agent is often stuck in a certain area. Indeed, the exploration is not effective and the agent is using to often the exploration for direct reward instead of exploring to have better long term reward. We can notice that convolution model seems to have better results than fully connected model. The intuition behind that is : in convolutional layer, each neuron is connected to a few nearby neurons in the previous layer and the same set of weights is used for every neuron. So we take advantage of the spatiality of the grid by connected just neurons by there neighbors. \n",
    "-The higher the temperature will be, the more reward there will be on the grid. And as they are more rewards, the average score for both model would grow up. For example, if we take a temperature of 0.3, we have a total result for CNN : 10.3 and for FC : 5.6. But if we take a temperature of 0.9, we have a toral result for CNN : 40.6 and for FC : 26.9"
   ]
  },
  {
   "cell_type": "markdown",
   "metadata": {},
   "source": [
    "***\n",
    "\n",
    "The algorithm tends to not explore the map which can be an issue. We propose two ideas in order to encourage exploration:\n",
    "1. Incorporating a decreasing $\\epsilon$-greedy exploration. You can use the method ```set_epsilon```\n",
    "2. Append via the environment a new state that describes if a cell has been visited or not\n",
    "\n",
    "***\n",
    "__Question 10__ Design a new ```train_explore``` function and environment class ```EnvironmentExploring``` to tackle the issue of exploration.\n",
    "\n"
   ]
  },
  {
   "cell_type": "code",
   "execution_count": 110,
   "metadata": {},
   "outputs": [],
   "source": [
    "def train_explore(agent,env,epoch,prefix=''):\n",
    "    score = 0\n",
    "    loss = 0\n",
    "    discount_coef = 0.9\n",
    "    agent.set_epsilon(0.9)\n",
    "    print(\"Epsilon :\",agent.epsilon)\n",
    "    for e in range(epoch):\n",
    "        # At each epoch, we restart to a fresh game and get the initial state\n",
    "        state = env.reset()\n",
    "        # This assumes that the games will terminate\n",
    "        game_over = False\n",
    "\n",
    "        win = 0\n",
    "        lose = 0\n",
    "        t = 0\n",
    "        if e%5 == 0 and e != 0 :#decrease the epsilon\n",
    "            agent.set_epsilon(agent.epsilon*discount_coef)\n",
    "            print(\"Epsilon :\",agent.epsilon)\n",
    "        while not game_over:\n",
    "            # The agent performs an action\n",
    "            \n",
    "            \n",
    "            action = agent.act(state)\n",
    "            \n",
    "\n",
    "            # Apply an action to the environment, get the next state, the reward\n",
    "            # and if the games end\n",
    "            prev_state = state\n",
    "            state, reward, game_over = env.act(action)\n",
    "        \n",
    "            # Update the counters\n",
    "            if reward > 0:\n",
    "                win = win + reward\n",
    "            if reward < 0:\n",
    "                lose = lose -reward\n",
    "\n",
    "            # Apply the reinforcement strategy\n",
    "            loss = agent.reinforce(prev_state, state,  action, reward, game_over)\n",
    "\n",
    "        # Save as a mp4\n",
    "        if e % 10 == 0:\n",
    "            env.draw(prefix+str(e))\n",
    "\n",
    "        # Update stats\n",
    "        score += win-lose\n",
    "\n",
    "        print(\"Epoch {:03d}/{:03d} | Loss {:.4f} | Win/lose count {}/{} ({})\"\n",
    "              .format(e, epoch, loss, win, lose, win-lose))\n",
    "        agent.save(name_weights=prefix+'model.h5',name_model=prefix+'model.json')\n",
    "    \n"
   ]
  },
  {
   "cell_type": "code",
   "execution_count": 111,
   "metadata": {},
   "outputs": [],
   "source": [
    "class EnvironmentExploring(object):\n",
    "    def __init__(self, grid_size=10, max_time=500, temperature=0.1):\n",
    "        grid_size = grid_size+4\n",
    "        self.grid_size = grid_size\n",
    "        self.max_time = max_time\n",
    "        self.temperature = temperature\n",
    "\n",
    "        #board on which one plays\n",
    "        self.board = np.zeros((grid_size,grid_size))\n",
    "        self.position = np.zeros((grid_size,grid_size))\n",
    "        self.malus_position = np.zeros((grid_size,grid_size)) #c'est visited postion \n",
    "\n",
    "        # coordinate of the cat\n",
    "        self.x = 0\n",
    "        self.y = 1\n",
    "\n",
    "        # self time\n",
    "        self.t = 0\n",
    "\n",
    "        self.scale=16\n",
    "\n",
    "        self.to_draw = np.zeros((max_time+2, grid_size*self.scale, grid_size*self.scale, 3))\n",
    "    \n",
    "    def draw(self,e):\n",
    "        skvideo.io.vwrite(str(e) + '.mp4', self.to_draw)\n",
    "\n",
    "    def get_frame(self,t):\n",
    "        b = np.zeros((self.grid_size,self.grid_size,3))+128\n",
    "        b[self.board>0,0] = 256\n",
    "        b[self.board < 0, 2] = 256\n",
    "        b[self.x,self.y,:]=256\n",
    "        b[-2:,:,:]=0\n",
    "        b[:,-2:,:]=0\n",
    "        b[:2,:,:]=0\n",
    "        b[:,:2,:]=0\n",
    "        \n",
    "        b =  cv2.resize(b, None, fx=self.scale, fy=self.scale, interpolation=cv2.INTER_NEAREST)\n",
    "\n",
    "        self.to_draw[t,:,:,:]=b\n",
    "    \n",
    "    def act(self, action):\n",
    "        \"\"\"This function returns the new state, reward and decides if the\n",
    "        game ends.\"\"\"\n",
    "\n",
    "        self.get_frame(int(self.t))\n",
    "\n",
    "        self.position = np.zeros((self.grid_size, self.grid_size))\n",
    "        self.malus_position = np.zeros((self.grid_size, self.grid_size))\n",
    "\n",
    "        self.position[0:2,:]= -1\n",
    "        self.position[:,0:2] = -1\n",
    "        self.position[-2:, :] = -1\n",
    "        self.position[:, -2:] = -1\n",
    "\n",
    "        self.position[self.x, self.y] = 1\n",
    "        if action == 0:\n",
    "            if self.x == self.grid_size-3:\n",
    "                self.x = self.x-1\n",
    "            else:\n",
    "                self.x = self.x + 1\n",
    "        elif action == 1:\n",
    "            if self.x == 2:\n",
    "                self.x = self.x+1\n",
    "            else:\n",
    "                self.x = self.x-1\n",
    "        elif action == 2:\n",
    "            if self.y == self.grid_size - 3:\n",
    "                self.y = self.y - 1\n",
    "            else:\n",
    "                self.y = self.y + 1\n",
    "        elif action == 3:\n",
    "            if self.y == 2:\n",
    "                self.y = self.y + 1\n",
    "            else:\n",
    "                self.y = self.y - 1\n",
    "        else:\n",
    "            RuntimeError('Error: action not recognized')\n",
    "\n",
    "        self.t = self.t + 1\n",
    "        #reward = self.board[self.x, self.y]\n",
    "        \n",
    "        game_over = self.t > self.max_time\n",
    "        \n",
    "        \n",
    "        #reward = 0\n",
    "        if train: #we are encouraging exploration in the following lines by adding a malus when we already have visited this state\n",
    "            reward = - self.malus_position[self.x, self.y]\n",
    "        self.malus_position[self.x, self.y] = 1 \n",
    "        \n",
    "        reward = reward + self.board[self.x, self.y]\n",
    "        self.board[self.x, self.y] = 0\n",
    "        \n",
    "        state = np.concatenate((self.malus_position.reshape(self.grid_size, self.grid_size,1),\n",
    "                                self.board.reshape(self.grid_size, self.grid_size,1),\n",
    "                        self.position.reshape(self.grid_size, self.grid_size,1)),axis=2)\n",
    "        \n",
    "        #state = np.concatenate((self.board.reshape(self.grid_size, self.grid_size,1),\n",
    "        #                self.position.reshape(self.grid_size, self.grid_size,1)),axis=2)\n",
    "        state = state[self.x-2:self.x+3,self.y-2:self.y+3,:]\n",
    "\n",
    "        return state, reward, game_over\n",
    "    \n",
    "    def reset(self):\n",
    "        \"\"\"This function resets the game and returns the initial state\"\"\"\n",
    "        #on prend aléatoirement de 3 à grid - 3 et [0] pour dire qu'on veut pas un array mais un réel\n",
    "        self.x = np.random.randint(3, self.grid_size-3, size=1)[0] \n",
    "        self.y = np.random.randint(3, self.grid_size-3, size=1)[0]\n",
    "\n",
    "\n",
    "        bonus = 0.5*np.random.binomial(1,self.temperature,size=self.grid_size**2)\n",
    "        bonus = bonus.reshape(self.grid_size,self.grid_size)\n",
    "\n",
    "        malus = -1.0*np.random.binomial(1,self.temperature,size=self.grid_size**2)\n",
    "        malus = malus.reshape(self.grid_size, self.grid_size)\n",
    "\n",
    "        self.to_draw = np.zeros((self.max_time+2, self.grid_size*self.scale, self.grid_size*self.scale, 3))\n",
    "\n",
    "\n",
    "        malus[bonus>0]=0\n",
    "\n",
    "        self.board = bonus + malus\n",
    "\n",
    "        self.position = np.zeros((self.grid_size, self.grid_size))\n",
    "        self.position[0:2,:]= -1\n",
    "        self.position[:,0:2] = -1\n",
    "        self.position[-2:, :] = -1\n",
    "        self.position[:, -2:] = -1\n",
    "        self.board[self.x,self.y] = 0\n",
    "        self.t = 0\n",
    "\n",
    "        state = np.concatenate((self.malus_position.reshape(self.grid_size, self.grid_size,1),\n",
    "                                self.board.reshape(self.grid_size, self.grid_size,1),\n",
    "                        self.position.reshape(self.grid_size, self.grid_size,1)),axis=2)\n",
    "        state = state[self.x - 2:self.x + 3, self.y - 2:self.y + 3, :]\n",
    "    \n",
    "        return state\n",
    "    \n",
    "\n",
    "    \n",
    "    \n",
    "## use those samples of code:\n",
    "#In train explore:\n",
    "#state, reward, game_over = env.act(action, train=True)\n",
    "\n",
    "## In Environment exploring:\n",
    "# You will have to change n_state to 3 because you will use one more layer!\n",
    "#reward = 0\n",
    "#if train:\n",
    "#    reward = -self.malus_position[self.x, self.y]\n",
    "#self.malus_position[self.x, self.y] = 0.1\n",
    "#\n",
    "#reward = reward + self.board[self.x, self.y]\n",
    "## 3 \"feature\" states instead of 2\n",
    "#state = np.concatenate((self.malus_position.reshape(self.grid_size, self.grid_size,1),\n",
    "#                                self.board.reshape(self.grid_size, self.grid_size,1),\n",
    "#                        self.position.reshape(self.grid_size, self.grid_size,1)),axis=2)"
   ]
  },
  {
   "cell_type": "code",
   "execution_count": 112,
   "metadata": {},
   "outputs": [
    {
     "name": "stdout",
     "output_type": "stream",
     "text": [
      "Epsilon : 0.9\n",
      "Epoch 000/030 | Loss 2.0043 | Win/lose count 17.0/12.0 (5.0)\n",
      "Epoch 001/030 | Loss 2.1504 | Win/lose count 9.5/16.0 (-6.5)\n",
      "Epoch 002/030 | Loss 1.9488 | Win/lose count 20.5/17.0 (3.5)\n",
      "Epoch 003/030 | Loss 2.0146 | Win/lose count 15.5/20.0 (-4.5)\n",
      "Epoch 004/030 | Loss 1.8628 | Win/lose count 17.5/21.0 (-3.5)\n",
      "Epsilon : 0.81\n",
      "Epoch 005/030 | Loss 2.1814 | Win/lose count 16.5/7.0 (9.5)\n",
      "Epoch 006/030 | Loss 2.0448 | Win/lose count 18.5/12.0 (6.5)\n",
      "Epoch 007/030 | Loss 2.0706 | Win/lose count 23.5/23.0 (0.5)\n",
      "Epoch 008/030 | Loss 2.1367 | Win/lose count 11.0/20.0 (-9.0)\n",
      "Epoch 009/030 | Loss 1.9574 | Win/lose count 15.0/15.0 (0.0)\n",
      "Epsilon : 0.7290000000000001\n",
      "Epoch 010/030 | Loss 2.0952 | Win/lose count 17.0/20.0 (-3.0)\n",
      "Epoch 011/030 | Loss 1.9737 | Win/lose count 16.0/16.0 (0.0)\n",
      "Epoch 012/030 | Loss 1.9247 | Win/lose count 14.5/17.0 (-2.5)\n",
      "Epoch 013/030 | Loss 1.9465 | Win/lose count 16.0/9.0 (7.0)\n",
      "Epoch 014/030 | Loss 2.0244 | Win/lose count 15.0/13.0 (2.0)\n",
      "Epsilon : 0.6561000000000001\n",
      "Epoch 015/030 | Loss 1.8691 | Win/lose count 19.0/19.0 (0.0)\n",
      "Epoch 016/030 | Loss 1.8674 | Win/lose count 16.0/11.0 (5.0)\n",
      "Epoch 017/030 | Loss 1.8023 | Win/lose count 13.0/13.0 (0.0)\n",
      "Epoch 018/030 | Loss 2.0184 | Win/lose count 7.0/6.0 (1.0)\n",
      "Epoch 019/030 | Loss 1.7270 | Win/lose count 18.0/11.0 (7.0)\n",
      "Epsilon : 0.5904900000000002\n",
      "Epoch 020/030 | Loss 1.7070 | Win/lose count 16.5/19.0 (-2.5)\n",
      "Epoch 021/030 | Loss 1.7569 | Win/lose count 15.5/18.0 (-2.5)\n",
      "Epoch 022/030 | Loss 1.7926 | Win/lose count 16.5/18.0 (-1.5)\n",
      "Epoch 023/030 | Loss 1.7745 | Win/lose count 15.5/16.0 (-0.5)\n",
      "Epoch 024/030 | Loss 1.8853 | Win/lose count 16.5/18.0 (-1.5)\n",
      "Epsilon : 0.5314410000000002\n",
      "Epoch 025/030 | Loss 1.6253 | Win/lose count 22.0/24.0 (-2.0)\n",
      "Epoch 026/030 | Loss 1.4817 | Win/lose count 24.0/23.0 (1.0)\n",
      "Epoch 027/030 | Loss 1.4704 | Win/lose count 12.5/12.0 (0.5)\n",
      "Epoch 028/030 | Loss 1.9224 | Win/lose count 21.5/18.0 (3.5)\n",
      "Epoch 029/030 | Loss 1.5159 | Win/lose count 13.5/17.0 (-3.5)\n"
     ]
    },
    {
     "data": {
      "text/html": [
       "<video alt=\"test\" controls>\n",
       "                <source src=\"data:video/mp4;base64,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\" type=\"video/mp4\" />\n",
       "             </video>"
      ],
      "text/plain": [
       "<IPython.core.display.HTML object>"
      ]
     },
     "execution_count": 112,
     "metadata": {},
     "output_type": "execute_result"
    }
   ],
   "source": [
    "# Training\n",
    "epochs_train = 30\n",
    "env = EnvironmentExploring(grid_size=size, max_time=T, temperature=0.3)\n",
    "agent = DQN_CNN(size, lr=.1, epsilon = 0.9, memory_size=2000, batch_size = 32,n_state=3)\n",
    "train_explore(agent, env, epochs_train, prefix='cnn_train_explore')\n",
    "HTML(display_videos('cnn_train_explore10.mp4'))"
   ]
  },
  {
   "cell_type": "code",
   "execution_count": 113,
   "metadata": {},
   "outputs": [
    {
     "name": "stdout",
     "output_type": "stream",
     "text": [
      "Win/lose count 24.0/23.0. Average score (2.0)\n",
      "Final score: 0.06666666666666667\n",
      "Win/lose count 18.5/21.0. Average score (-1.5)\n",
      "Final score: -0.1\n",
      "Win/lose count 25.5/22.0. Average score (1.3333333333333333)\n",
      "Final score: 0.13333333333333333\n",
      "Win/lose count 21.5/15.0. Average score (4.25)\n",
      "Final score: 0.5666666666666667\n",
      "Win/lose count 20.0/27.0. Average score (0.6)\n",
      "Final score: 0.1\n",
      "Win/lose count 21.5/17.0. Average score (2.0)\n",
      "Final score: 0.4\n",
      "Win/lose count 12.0/10.0. Average score (2.2857142857142856)\n",
      "Final score: 0.5333333333333333\n",
      "Win/lose count 17.0/17.0. Average score (2.0)\n",
      "Final score: 0.5333333333333333\n",
      "Win/lose count 10.5/7.0. Average score (2.5555555555555554)\n",
      "Final score: 0.7666666666666667\n",
      "Win/lose count 14.5/16.0. Average score (2.0)\n",
      "Final score: 0.6666666666666666\n",
      "Win/lose count 16.0/9.0. Average score (3.090909090909091)\n",
      "Final score: 1.1333333333333333\n",
      "Win/lose count 18.0/16.0. Average score (3.1666666666666665)\n",
      "Final score: 1.2666666666666666\n",
      "Win/lose count 12.5/13.0. Average score (2.8461538461538463)\n",
      "Final score: 1.2333333333333334\n",
      "Win/lose count 20.0/23.0. Average score (2.2142857142857144)\n",
      "Final score: 1.0333333333333334\n",
      "Win/lose count 16.5/9.0. Average score (3.066666666666667)\n",
      "Final score: 1.5333333333333334\n",
      "Win/lose count 22.0/18.0. Average score (3.375)\n",
      "Final score: 1.8\n",
      "Win/lose count 22.0/19.0. Average score (3.5294117647058822)\n",
      "Final score: 2.0\n",
      "Win/lose count 17.5/17.0. Average score (3.388888888888889)\n",
      "Final score: 2.033333333333333\n",
      "Win/lose count 21.5/17.0. Average score (3.6842105263157894)\n",
      "Final score: 2.3333333333333335\n",
      "Win/lose count 16.0/22.0. Average score (2.9)\n",
      "Final score: 1.9333333333333333\n",
      "Win/lose count 30.5/21.0. Average score (3.6666666666666665)\n",
      "Final score: 2.566666666666667\n",
      "Win/lose count 18.0/22.0. Average score (3.1363636363636362)\n",
      "Final score: 2.3\n",
      "Win/lose count 22.0/18.0. Average score (3.347826086956522)\n",
      "Final score: 2.566666666666667\n",
      "Win/lose count 20.5/22.0. Average score (3.0833333333333335)\n",
      "Final score: 2.466666666666667\n",
      "Win/lose count 23.5/25.0. Average score (2.84)\n",
      "Final score: 2.3666666666666667\n",
      "Win/lose count 15.5/15.0. Average score (2.769230769230769)\n",
      "Final score: 2.4\n",
      "Win/lose count 11.5/10.0. Average score (2.7777777777777777)\n",
      "Final score: 2.5\n",
      "Win/lose count 17.5/14.0. Average score (2.9285714285714284)\n",
      "Final score: 2.7333333333333334\n",
      "Win/lose count 13.5/12.0. Average score (2.9310344827586206)\n",
      "Final score: 2.8333333333333335\n",
      "Win/lose count 14.5/18.0. Average score (2.6)\n",
      "Final score: 2.6\n"
     ]
    },
    {
     "data": {
      "text/html": [
       "<video alt=\"test\" controls>\n",
       "                <source src=\"data:video/mp4;base64,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\" type=\"video/mp4\" />\n",
       "             </video>"
      ],
      "text/plain": [
       "<IPython.core.display.HTML object>"
      ]
     },
     "execution_count": 113,
     "metadata": {},
     "output_type": "execute_result"
    }
   ],
   "source": [
    "# Evaluation\n",
    "epochs_test = 30\n",
    "test(agent,env,epochs_test,prefix='cnn_test_explore')\n",
    "HTML(display_videos('cnn_test_explore10.mp4'))"
   ]
  },
  {
   "cell_type": "markdown",
   "metadata": {},
   "source": [
    "We can now see in the video that our agent is more able to visit unknown area as we add a penalty when we visit a state. "
   ]
  },
  {
   "cell_type": "markdown",
   "metadata": {},
   "source": [
    "***\n",
    "***\n",
    "__BONUS question__ Use the expert DQN from the previous question to generate some winning games. Train a model that mimicks its behavior. Compare the performances."
   ]
  },
  {
   "cell_type": "code",
   "execution_count": 125,
   "metadata": {},
   "outputs": [],
   "source": [
    "class MIM(Agent):\n",
    "    def __init__(self, new_expert,grid_size,  epsilon = 0.1, memory_size=100, batch_size = 16,n_state=2):\n",
    "        super(MIM, self).__init__(epsilon = epsilon)\n",
    "\n",
    "        # Discount for Q learning\n",
    "        self.discount = 0.99\n",
    "        \n",
    "        self.grid_size = grid_size\n",
    "        \n",
    "        # number of state\n",
    "        self.n_state = n_state\n",
    "\n",
    "        # Memory\n",
    "        self.memory = Memory(memory_size)\n",
    "        \n",
    "        # Batch size when learning\n",
    "        self.batch_size = batch_size\n",
    "        \n",
    "        self.expert = new_expert #this is our expert agent that our actor will mims its behavior\n",
    "\n",
    "    def learned_act(self, s): #ecrase la fonction learned_act de l'agent pour la remplacer par celle ci\n",
    "        s = np.expand_dims(s,axis=0)\n",
    "        a = np.argmax(self.expert.predict(s)) #we are now using the expert agent to mimic its actions\n",
    "        return a\n",
    "\n",
    "    def reinforce(self, s_, n_s_, a_, r_, game_over_):\n",
    "        # Two steps: first memorize the states, second learn from the pool\n",
    "        self.memory.remember([s_, n_s_, a_, r_, game_over_])\n",
    "        \n",
    "        input_states = np.zeros((self.batch_size, 5,5,self.n_state))\n",
    "        target_q = np.zeros((self.batch_size, 4))\n",
    "        \n",
    "        for i in range(self.batch_size): #on fait une batch gradient descent \n",
    "            ######## FILL IN\n",
    "            state,next_state,action,reward, game_over = self.memory.random_access()\n",
    "            input_states[i,:,:,:] = state  #pas besoin de redimensionner car on a précisé plus haut que inputs states est de dim 4\n",
    "            state = np.expand_dims(state,axis = 0)\n",
    "            target_q[i,:] = self.model.predict(state) #comme on veut faire la diff dans le MSE que pour l'action qu'on choisit, on met les autres valeurs égales comme ca différences entre Q et Q* = 0\n",
    "            next_state = np.expand_dims(next_state, axis = 0)\n",
    "            #ici on imite Q value function, et comme pour chaque i on a le même state, on pourra faire descente de gradient\n",
    "            if game_over_: \n",
    "                target_q[i,action] = reward\n",
    "            else:\n",
    "                target_q[i,action] = reward + self.discount*np.max(self.model.predict(next_state))\n",
    "        ######## FILL IN\n",
    "        # HINT: Clip the target to avoid exploiding gradients.. -- clipping is a bit tighter\n",
    "        target_q = np.clip(target_q, -3, 3)\n",
    "        l = self.model.train_on_batch(input_states, target_q) #inputs state c'est les training inputs et target_q c'est target data\n",
    "        #donc input_state on va le passer à notre réseaux de neurons\n",
    "\n",
    "        return l\n",
    "\n",
    "    def save(self,name_weights='model.h5',name_model='model.json'):\n",
    "        self.model.save_weights(name_weights, overwrite=True)\n",
    "        with open(name_model, \"w\") as outfile:\n",
    "            json.dump(self.model.to_json(), outfile)\n",
    "            \n",
    "    def load(self,name_weights='model.h5',name_model='model.json'):\n",
    "        with open(name_model, \"r\") as jfile:\n",
    "            model = model_from_json(json.load(jfile))\n",
    "        model.load_weights(name_weights)\n",
    "        model.compile(\"sgd\", \"mse\")\n",
    "        self.model = model\n",
    "        \n"
   ]
  },
  {
   "cell_type": "code",
   "execution_count": 126,
   "metadata": {},
   "outputs": [],
   "source": [
    "class DQN_CNN_MIM(MIM):\n",
    "    def __init__(self, *args,lr=0.1,**kwargs):\n",
    "        super(DQN_CNN_MIM, self).__init__(*args,**kwargs)\n",
    "        \n",
    "        ###### FILL IN\n",
    "        model = Sequential()\n",
    "        model.add(Conv2D(16, (3, 3),input_shape=(5,5, self.n_state), activation='relu')) #8 filters, kernel size = (3,3)\n",
    "        model.add(Conv2D(32, (2, 2), activation='relu'))\n",
    "        model.add(Flatten())\n",
    "        model.add(Dense(4, activation='linear'))\n",
    "        model.compile(adam(lr=lr, decay=1e-4), \"mse\")\n",
    "        self.model = model\n",
    "        \n"
   ]
  },
  {
   "cell_type": "code",
   "execution_count": 127,
   "metadata": {},
   "outputs": [
    {
     "name": "stdout",
     "output_type": "stream",
     "text": [
      "Epsilon : 0.9\n",
      "Epoch 000/030 | Loss 1.7295 | Win/lose count 15.0/20.0 (-5.0)\n",
      "Epoch 001/030 | Loss 2.1172 | Win/lose count 10.5/9.0 (1.5)\n",
      "Epoch 002/030 | Loss 1.7681 | Win/lose count 10.5/14.0 (-3.5)\n",
      "Epoch 003/030 | Loss 1.5084 | Win/lose count 11.5/13.0 (-1.5)\n",
      "Epoch 004/030 | Loss 1.7526 | Win/lose count 19.0/15.0 (4.0)\n",
      "Epsilon : 0.81\n",
      "Epoch 005/030 | Loss 1.5490 | Win/lose count 12.0/15.0 (-3.0)\n",
      "Epoch 006/030 | Loss 1.7021 | Win/lose count 11.0/7.0 (4.0)\n",
      "Epoch 007/030 | Loss 1.6602 | Win/lose count 13.0/16.0 (-3.0)\n",
      "Epoch 008/030 | Loss 1.7184 | Win/lose count 8.5/12.0 (-3.5)\n",
      "Epoch 009/030 | Loss 2.0131 | Win/lose count 11.5/13.0 (-1.5)\n",
      "Epsilon : 0.7290000000000001\n",
      "Epoch 010/030 | Loss 1.9322 | Win/lose count 5.5/8.0 (-2.5)\n",
      "Epoch 011/030 | Loss 1.6869 | Win/lose count 5.0/10.0 (-5.0)\n",
      "Epoch 012/030 | Loss 1.6791 | Win/lose count 8.5/7.0 (1.5)\n",
      "Epoch 013/030 | Loss 1.8942 | Win/lose count 9.0/11.0 (-2.0)\n",
      "Epoch 014/030 | Loss 2.1964 | Win/lose count 9.0/7.0 (2.0)\n",
      "Epsilon : 0.6561000000000001\n",
      "Epoch 015/030 | Loss 1.7036 | Win/lose count 10.5/14.0 (-3.5)\n",
      "Epoch 016/030 | Loss 1.6712 | Win/lose count 7.5/14.0 (-6.5)\n",
      "Epoch 017/030 | Loss 1.7398 | Win/lose count 9.0/5.0 (4.0)\n",
      "Epoch 018/030 | Loss 1.6824 | Win/lose count 7.5/6.0 (1.5)\n",
      "Epoch 019/030 | Loss 1.7971 | Win/lose count 10.0/9.0 (1.0)\n",
      "Epsilon : 0.5904900000000002\n",
      "Epoch 020/030 | Loss 1.9389 | Win/lose count 6.0/7.0 (-1.0)\n",
      "Epoch 021/030 | Loss 1.5922 | Win/lose count 5.5/8.0 (-2.5)\n",
      "Epoch 022/030 | Loss 1.8395 | Win/lose count 5.5/15.0 (-9.5)\n",
      "Epoch 023/030 | Loss 1.5724 | Win/lose count 8.0/13.0 (-5.0)\n",
      "Epoch 024/030 | Loss 1.4449 | Win/lose count 3.0/8.0 (-5.0)\n",
      "Epsilon : 0.5314410000000002\n",
      "Epoch 025/030 | Loss 1.3145 | Win/lose count 6.0/10.0 (-4.0)\n",
      "Epoch 026/030 | Loss 1.5742 | Win/lose count 8.0/11.0 (-3.0)\n",
      "Epoch 027/030 | Loss 1.3850 | Win/lose count 6.0/7.0 (-1.0)\n",
      "Epoch 028/030 | Loss 1.4710 | Win/lose count 10.0/8.0 (2.0)\n",
      "Epoch 029/030 | Loss 1.6126 | Win/lose count 6.0/5.0 (1.0)\n"
     ]
    },
    {
     "data": {
      "text/html": [
       "<video alt=\"test\" controls>\n",
       "                <source src=\"data:video/mp4;base64,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\" type=\"video/mp4\" />\n",
       "             </video>"
      ],
      "text/plain": [
       "<IPython.core.display.HTML object>"
      ]
     },
     "execution_count": 127,
     "metadata": {},
     "output_type": "execute_result"
    }
   ],
   "source": [
    "epochs_train = 30\n",
    "env_mim = EnvironmentExploring(grid_size=size, max_time=T, temperature=0.3)\n",
    "agent_mim = DQN_CNN_MIM(agent.model,size, lr=.1, epsilon = 0.9, memory_size=2000, batch_size = 32,n_state=3)\n",
    "train_explore(agent_mim, env_mim, epochs_train, prefix='cnn_train_explore_mim')\n",
    "HTML(display_videos('cnn_train_explore_mim10.mp4'))"
   ]
  },
  {
   "cell_type": "code",
   "execution_count": 128,
   "metadata": {},
   "outputs": [
    {
     "name": "stdout",
     "output_type": "stream",
     "text": [
      "Win/lose count 7.5/16.0. Average score (-17.0)\n",
      "Final score: -0.5666666666666667\n",
      "Win/lose count 9.5/6.0. Average score (-5.0)\n",
      "Final score: -0.3333333333333333\n",
      "Win/lose count 4.0/9.0. Average score (-6.666666666666667)\n",
      "Final score: -0.6666666666666666\n",
      "Win/lose count 7.0/9.0. Average score (-6.0)\n",
      "Final score: -0.8\n",
      "Win/lose count 7.0/7.0. Average score (-4.8)\n",
      "Final score: -0.8\n",
      "Win/lose count 6.0/5.0. Average score (-3.6666666666666665)\n",
      "Final score: -0.7333333333333333\n",
      "Win/lose count 4.0/7.0. Average score (-4.0)\n",
      "Final score: -0.9333333333333333\n",
      "Win/lose count 7.0/7.0. Average score (-3.5)\n",
      "Final score: -0.9333333333333333\n",
      "Win/lose count 3.5/8.0. Average score (-4.111111111111111)\n",
      "Final score: -1.2333333333333334\n",
      "Win/lose count 8.0/3.0. Average score (-2.7)\n",
      "Final score: -0.9\n",
      "Win/lose count 3.0/9.0. Average score (-3.5454545454545454)\n",
      "Final score: -1.3\n",
      "Win/lose count 6.0/7.0. Average score (-3.4166666666666665)\n",
      "Final score: -1.3666666666666667\n",
      "Win/lose count 3.0/4.0. Average score (-3.3076923076923075)\n",
      "Final score: -1.4333333333333333\n",
      "Win/lose count 7.0/3.0. Average score (-2.5)\n",
      "Final score: -1.1666666666666667\n",
      "Win/lose count 7.0/13.0. Average score (-3.1333333333333333)\n",
      "Final score: -1.5666666666666667\n",
      "Win/lose count 7.0/6.0. Average score (-2.8125)\n",
      "Final score: -1.5\n",
      "Win/lose count 7.5/11.0. Average score (-3.0588235294117645)\n",
      "Final score: -1.7333333333333334\n",
      "Win/lose count 8.5/11.0. Average score (-3.1666666666666665)\n",
      "Final score: -1.9\n",
      "Win/lose count 5.0/7.0. Average score (-3.210526315789474)\n",
      "Final score: -2.033333333333333\n",
      "Win/lose count 6.0/9.0. Average score (-3.35)\n",
      "Final score: -2.2333333333333334\n",
      "Win/lose count 7.5/6.0. Average score (-3.0476190476190474)\n",
      "Final score: -2.1333333333333333\n",
      "Win/lose count 4.5/5.0. Average score (-2.9545454545454546)\n",
      "Final score: -2.1666666666666665\n",
      "Win/lose count 6.5/12.0. Average score (-3.3043478260869565)\n",
      "Final score: -2.533333333333333\n",
      "Win/lose count 8.0/8.0. Average score (-3.1666666666666665)\n",
      "Final score: -2.533333333333333\n",
      "Win/lose count 4.5/6.0. Average score (-3.16)\n",
      "Final score: -2.6333333333333333\n",
      "Win/lose count 7.0/7.0. Average score (-3.0384615384615383)\n",
      "Final score: -2.6333333333333333\n",
      "Win/lose count 9.5/13.0. Average score (-3.185185185185185)\n",
      "Final score: -2.8666666666666667\n",
      "Win/lose count 5.0/5.0. Average score (-3.0714285714285716)\n",
      "Final score: -2.8666666666666667\n",
      "Win/lose count 9.0/13.0. Average score (-3.2413793103448274)\n",
      "Final score: -3.1333333333333333\n",
      "Win/lose count 2.5/5.0. Average score (-3.3)\n",
      "Final score: -3.3\n"
     ]
    },
    {
     "data": {
      "text/html": [
       "<video alt=\"test\" controls>\n",
       "                <source src=\"data:video/mp4;base64,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\" type=\"video/mp4\" />\n",
       "             </video>"
      ],
      "text/plain": [
       "<IPython.core.display.HTML object>"
      ]
     },
     "execution_count": 128,
     "metadata": {},
     "output_type": "execute_result"
    }
   ],
   "source": [
    "epochs_test = 30\n",
    "test(agent_mim, env_mim,epochs_test,prefix='cnn_test_explore_mim')\n",
    "HTML(display_videos('cnn_test_explore_mim10.mp4'))"
   ]
  },
  {
   "cell_type": "markdown",
   "metadata": {},
   "source": [
    "The Mimic DQN isn't outperforming the reference teaching agent but still do better than the agent without exploration. Nevertheless, Mimic method's is very useful when we are training a single deep policy network over a set of related source task. Indeed, a network trained using Actor-Mimic is capable of reaching expert performance on many games simultaneously. Moreover, using Actor-Mimic as a multitask pretraining phase can significantly improve learning speed.\n"
   ]
  },
  {
   "cell_type": "markdown",
   "metadata": {},
   "source": [
    "***"
   ]
  }
 ],
 "metadata": {
  "kernelspec": {
   "display_name": "recvis",
   "language": "python",
   "name": "recvis"
  },
  "language_info": {
   "codemirror_mode": {
    "name": "ipython",
    "version": 3
   },
   "file_extension": ".py",
   "mimetype": "text/x-python",
   "name": "python",
   "nbconvert_exporter": "python",
   "pygments_lexer": "ipython3",
   "version": "3.6.9"
  }
 },
 "nbformat": 4,
 "nbformat_minor": 2
}
